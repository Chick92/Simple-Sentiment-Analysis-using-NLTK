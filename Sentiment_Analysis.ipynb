{
 "cells": [
  {
   "cell_type": "code",
   "execution_count": 1,
   "metadata": {},
   "outputs": [],
   "source": [
    "import os\n",
    "import nltk\n",
    "import sklearn\n",
    "import random"
   ]
  },
  {
   "cell_type": "code",
   "execution_count": 3,
   "metadata": {},
   "outputs": [],
   "source": [
    "files_pos = os.listdir('train/pos')\n",
    "files_pos = [open('train/pos/'+f, 'r').read() for f in files_pos]\n",
    "files_neg = os.listdir('train/neg')\n",
    "files_neg = [open('train/neg/'+f, 'r').read() for f in files_neg]\n"
   ]
  },
  {
   "cell_type": "code",
   "execution_count": 3,
   "metadata": {},
   "outputs": [
    {
     "data": {
      "text/plain": [
       "'pos'"
      ]
     },
     "execution_count": 3,
     "metadata": {},
     "output_type": "execute_result"
    }
   ],
   "source": []
  },
  {
   "cell_type": "code",
   "execution_count": 14,
   "metadata": {},
   "outputs": [],
   "source": [
    "from nltk import word_tokenize, PorterStemmer, SnowballStemmer\n",
    "from nltk.stem import *\n",
    "import re\n",
    "\n",
    "def remove_punctuation_digits(sentence): \n",
    "    sentence = re.sub(r'[^(a-zA-Z)\\s]','', sentence)\n",
    "    return sentence \n",
    "\n",
    "\n",
    "from nltk.corpus import stopwords\n",
    "stop_words = list(set(stopwords.words('english')))\n",
    "def remove_stopword(sentence):\n",
    "    return [w for w in sentence if not w in stop_words]\n",
    "\n",
    "stemmer = SnowballStemmer(\"english\")\n",
    "def clean_reviews(list_rev): \n",
    "    listy = []\n",
    "    for rev in list_rev: \n",
    "        cleaned_review = re.sub(r'[^(a-zA-Z)\\s]','', rev)\n",
    "        tokenized = word_tokenize(cleaned_review)\n",
    "        stopped = remove_stopword(tokenized)\n",
    "        stemmed = [stemmer.stem(w) for w in stopped]\n",
    "        listy.append(stemmed)\n",
    "    return listy\n",
    "        \n",
    "\n",
    "def find_features(document):\n",
    "    words = set(document)\n",
    "    features = {}\n",
    "    for w in word_features:\n",
    "        features[w] = (w in words)\n",
    "\n",
    "    return features\n",
    "def make_tuple(document, sent): \n",
    "    listy = []\n",
    "    for review in document: \n",
    "        listy.append((review, sent))\n",
    "    return listy"
   ]
  },
  {
   "cell_type": "code",
   "execution_count": 5,
   "metadata": {},
   "outputs": [],
   "source": [
    "cleaned_pos = clean_reviews(files_pos)\n",
    "cleaned_neg = clean_reviews(files_neg)\n",
    "cleaned_all = cleaned_pos+cleaned_neg\n",
    "random.shuffle(cleaned_all)"
   ]
  },
  {
   "cell_type": "code",
   "execution_count": 6,
   "metadata": {},
   "outputs": [],
   "source": [
    "tagged_pos = make_tuple(cleaned_pos, 'pos')\n",
    "tagged_neg = make_tuple(cleaned_neg, 'neg')\n",
    "tagged_all = tagged_pos + tagged_neg\n",
    "random.shuffle(tagged_all)"
   ]
  },
  {
   "cell_type": "code",
   "execution_count": null,
   "metadata": {},
   "outputs": [],
   "source": [
    "tagged_all2 = "
   ]
  },
  {
   "cell_type": "code",
   "execution_count": 7,
   "metadata": {},
   "outputs": [],
   "source": [
    "all_words = [w.lower() for review in cleaned_all for w in review]"
   ]
  },
  {
   "cell_type": "code",
   "execution_count": 10,
   "metadata": {},
   "outputs": [],
   "source": [
    "\n",
    "all_words2 = nltk.FreqDist(all_words)\n",
    "\n",
    "word_features = list(all_words2.keys())[:3000]\n"
   ]
  },
  {
   "cell_type": "code",
   "execution_count": 8,
   "metadata": {},
   "outputs": [
    {
     "name": "stdout",
     "output_type": "stream",
     "text": [
      "12500 12500\n"
     ]
    }
   ],
   "source": [
    "print(len(cleaned_pos), len(cleaned_neg))"
   ]
  },
  {
   "cell_type": "code",
   "execution_count": 12,
   "metadata": {},
   "outputs": [],
   "source": [
    "featuresets_pos = [(find_features(rev), category) for (rev, category) in tagged_pos]\n",
    "featuresets_neg = [(find_features(rev), category) for (rev, category) in tagged_neg]"
   ]
  },
  {
   "cell_type": "code",
   "execution_count": 139,
   "metadata": {},
   "outputs": [],
   "source": [
    "test_pos = featuresets_pos[:100]\n",
    "test_neg = featuresets_neg[:100]"
   ]
  },
  {
   "cell_type": "code",
   "execution_count": 22,
   "metadata": {},
   "outputs": [],
   "source": [
    "\n",
    "\n",
    "featuresets = [(find_features(rev), category) for (rev, category) in tagged_all ]\n",
    "training_set = featuresets[:20000]\n",
    "testing_set = featuresets[20000:]"
   ]
  },
  {
   "cell_type": "code",
   "execution_count": 23,
   "metadata": {},
   "outputs": [
    {
     "name": "stdout",
     "output_type": "stream",
     "text": [
      "({'humm': False, 'italian': False, 'movi': True, 'star': False, 'david': False, 'hasselhoff': False, 'linda': False, 'blair': False, 'i': True, 'wasnt': False, 'expect': False, 'much': False, 'honest': False, 'fact': False, 'took': False, 'even': False, 'less': False, 'it': True, 'doesnt': False, 'mean': False, 'worst': False, 'seen': True, 'watch': False, 'wors': False, 'thing': False, 'plot': False, 'time': False, 'confus': False, 'uninterest': False, 'good': False, 'gore': False, 'scene': False, 'save': False, 'apart': False, 'go': False, 'love': False, 'special': False, 'effect': False, 'realli': False, 'cheesi': False, 'bad': False, 'now': False, 'want': False, 'troll': False, 'director': False, 'sure': False, 'a': True, 'super': False, 'unusu': False, 'film': True, 'audiard': False, 'read': False, 'my': False, 'lip': False, 'pulpi': False, 'lone': False, 'heart': False, 'thriller': False, 'perfect': False, 'handsom': False, 'grizzl': False, 'charisma': False, 'vincent': False, 'cassel': False, 'featur': False, 'marvel': False, 'contain': False, 'perform': True, 'emanuell': False, 'devo': False, 'recur': False, 'way': False, 'karin': False, 'viard': False, 'pop': True, 'jeanpierr': False, 'jeunet': False, 'unconvent': False, 'beauti': False, '(': False, 'shes': False, 'refer': False, 'everyon': False, 'unattract': False, ')': False, 'versatil': False, 'capabl': False, 'subordin': False, 'profilebr': False, 'br': True, 'this': False, 'almost': False, 'definit': False, 'role': False, 'carla': False, 'putupon': False, 'offic': True, 'dogsbodi': False, 'taunt': False, 'colleagu': False, 'exploit': False, 'deaf': False, 'yet': False, 'find': True, 'ami': False, 'dexploit': False, 'like': True, 'excon': False, 'paul': False, 'each': False, 'other': False, 'talent': False, 'theft': False, 'struggl': False, 'respect': False, 'situat': False, 'form': False, 'romant': False, 'rapproch': False, 'devosaudiard': False, 'manag': False, 'attend': False, 'warp': False, 'inner': False, 'world': False, 'discreet': False, 'stylish': False, 'flairbr': False, 'in': False, 'alreadi': False, 'clear': False, 'control': False, 'handl': False, 'tension': False, 'action': False, 'invest': False, 'frame': False, 'truli': False, 'viscer': False, 'experi': False, 'becom': False, 'great': True, 'hit': False, 'prophet': False, 'nine': False, 'year': False, 'later': False, 'saw': False, 'valentin': False, 'say': False, 'best': False, 'slasher': False, 'ive': False, 'unlik': False, 'recent': False, 'trend': False, 'horror': False, 'flick': False, 'concern': False, 'eeri': False, 'selfmock': False, 'for': False, 'hate': False, 'scream': False, 'one': False, 'rule': False, 'though': False, 'old': True, 'appli': False, 'blend': False, 'you': False, 'get': True, 'style': False, 'cinematographi': False, 'act': False, 'stalkingslash': False, 'mad': False, 'guess': False, 'final': True, 'give': False, 'fan': False, 'kind': False, 'long': True, 'move': False, 'right': False, 'directionbr': False, 'denis': False, 'richard': False, 'stand': False, 'fun': False, 'charact': False, 'tell': False, 'make': False, 'markham': False, 'urban': False, 'gentleman': False, 'crimesolv': False, 'philo': False, 'vanc': False, 'william': False, 'powel': False, 'district': False, 'attorney': False, 'im': False, 'come': False, 'belief': False, 'archer': False, 'coe': False, 'kill': False, 'room': False, 'that': True, 'poker': False, 'dagger': False, 'sheath': False, 'fragmentsit': False, 'but': False, 'dead': False, 'man': False, 'walk': False, 'upstair': False, 'tri': False, 'anyth': False, 'remark': False, 'case': False, 'were': False, 'sympathet': False, 'wealthi': False, 'arrog': False, 'dislik': False, 'seem': False, 'knew': False, 'found': False, 'slump': False, 'chair': False, 'bedroom': False, 'pistol': False, 'hand': False, 'gunshot': False, 'wound': False, 'head': False, 'wait': False, 'further': False, 'examin': False, 'show': False, 'hard': False, 'blunt': False, 'instrument': False, 'fractur': False, 'skull': False, 'then': False, 'there': False, 'back': False, 'complic': False, 'matter': False, 'door': False, 'window': False, 'lock': False, 'insid': False, 'suicid': False, 'murder': False, 'could': False, 'killer': False, 'escap': False, 'what': False, 'specif': False, 'motiv': False, 'sinc': False, 'mani': False, 'suspect': False, 'and': False, 'brother': False, 'brisban': False, 'mainfloor': False, 'closet': False, 'the': True, 'kennel': False, 'still': False, 'provid': False, 'look': True, 'classic': False, 'whodunit': False, 'work': False, 'well': True, 'first': False, 'mysteri': True, 'clever': False, 'logic': False, 'second': False, 'amus': False, 'assur': False, 'consid': False, 'someth': False, 'rehears': False, 'nick': False, 'charl': False, 'few': False, 'he': True, 'use': False, 'wit': False, 'piec': False, 'togeth': False, 'hes': False, 'also': False, 'compani': False, 'twenti': False, 'steadili': False, 'upward': False, 'status': False, 'popular': False, 'talki': False, 'his': False, 'intellig': False, 'effortless': False, 'sophist': False, 'made': True, 'contemporaryseem': False, 'actor': False, 'past': False, 'pleasant': False, 'see': False, 'face': False, 'mari': False, 'astor': False, 'hilda': False, 'lake': False, 'young': False, 'resent': False, 'potenti': False, 'rich': False, 'ward': False, 'cavanaugh': False, 'titl': False, 'brit': False, 'hover': False, 'around': True, 'helen': False, 'vinson': False, 'notabl': False, 'sultri': False, 'selfish': False, 'manner': False, 'stuff': False, 'vogu': False, 'etienn': False, 'giraudot': False, 'small': False, 'elder': False, 'fussi': False, 'dr': False, 'doremus': False, 'whose': False, 'job': False, 'coron': False, 'medic': False, 'keep': False, 'take': False, 'away': False, 'meal': False, 'ralph': False, 'morgan': False, 'privat': False, 'secretari': False, 'high': False, 'percentag': False, 'middleag': False, 'men': False, 'without': False, 'ounc': False, 'fat': False, 'wear': False, 'snug': False, 'englishcut': False, 'tailor': False, 'suit': False, 'eas': False, 'most': False, 'eugen': False, 'palett': False, 'nobl': False, 'belli': False, 'gravel': False, 'voic': False, 'detect': False, 'sergeant': False, 'heath': False, 'longtim': False, 'acquaint': False, 'actual': False, 'not': False, 'youv': False, 'heard': False, 'funni': False, 'part': False, 'affleck': False, 'appleg': False, 'fair': False, 'chemistri': False, 'particular': False, 'appeal': False, 'likabl': False, 'interest': False, 'jame': False, 'gandolfini': False, 'catherin': False, 'ohara': False, 'consumm': False, 'profession': False, 'theyr': False, 'pretti': False, 'everyth': False, 'end': True, 'surviv': False, 'holiday': False, 'youll': False, 'ever': False, 'unfortun': False, 'unfocus': False, 'comedi': False, 'forc': False, 'attempt': False, 'dark': False, 'humor': False, 'dour': False, 'endear': False, 'spastic': False, 'overenthusiast': False, 'across': False, 'disturb': False, 'cartoonish': False, 'natur': False, 'brought': False, 'relief': False, 'view': False, 'next': False, 'mute': False, 'believ': False, 'relax': False, 'standard': False, 'never': False, 'fulli': False, 'buy': False, 'setup': False, 'rent': False, 'famili': False, 'xmasbr': False, 'border': False, 'surreal': False, 'strang': False, 'xmas': False, 'eve': False, 'replet': False, 'incestu': False, 'son': False, 'discov': False, 'nake': False, 'provoc': False, 'pictur': False, 'mother': False, 'isnt': False, 'disturbingbr': False, 'to': False, 'color': False, 'muddi': False, 'noirish': False, 'hous': False, 'set': False, 'place': False, 'stagey': False, 'cheapbr': False, 'fourth': False, 'string': False, 'box': False, 'dud': False, 'paycheck': False, 'gig': False, 'jersey': False, 'girl': True, 'remain': False, 'last': False, 'damag': False, 'julian': False, 'sand': False, 'least': False, 'near': False, 'press': False, 'rememb': False, 'movesoslowlyzzzzzzzzzzzzbr': False, 'vcr': False, 'run': False, 'sleep': False, 'pill': True, 'spent': False, 'accident': False, 'pick': False, 'video': False, 'store': True, 'etcbr': False, 'graini': False, 'low': False, 'budget': False, 'unnatur': False, 'distractingbr': False, 'stori': True, 'gal': False, 'weekend': False, 'guy': False, 'of': False, 'cours': False, 'camp': False, 'trip': False, 'stop': False, 'earring': False, 'when': False, 'arriv': False, 'area': False, 'stay': False, 'pull': False, 'mr': False, 'ranger': False, 'sir': False, 'scold': False, 'throw': False, 'lit': False, 'cigarett': False, 'car': True, 'fire': False, 'season': False, 'drive': False, 'remot': False, 'cabin': False, 'cute': False, 'wander': False, 'vicin': False, 'bambi': False, 'yes': False, 'aubri': False, 'immedi': False, 'smitten': False, 'appar': False, 'two': False, 'leg': False, 'madi': False, 'rather': False, 'disappoint': False, 'develop': False, 'forward': False, 'forget': False, 'ex': False, 'shface': False, 'stone': False, 'galpalsbr': False, 'oh': False, 'forgot': False, 'hermit': False, 'live': False, 'perhap': False, 'someon': False, 'tangl': False, 'sort': False, 'reputationbr': False, 'so': True, 'sooner': False, 'woodvisitor': False, 'begin': True, 'die': False, 'various': False, 'boobi': False, 'trap': False, 'although': False, 'coupl': False, 'littl': True, 'lower': False, 'camper': False, 'understand': False, 'upset': False, 'no': False, 'cell': False, 'phone': False, 'recept': False, 'would': True, 'miss': True, 'chanc': False, 'check': False, 'anymor': False, 'odd': False, 'behavior': False, 'bit': False, 'said': False, 'helpbr': False, 'fantast': False, 'twist': False, 'wont': False, 'your': False, 'awak': False, 'pray': False, 'wake': False, 'blank': False, 'screenbr': False, 'terribl': False, 'product': False, 'valu': False, 'whole': False, 'undertak': False, 'lame': False, 'amaz': False, 'releas': False, 'avoid': False, 'cost': False, 'thought': False, 'leger': False, 'convinc': False, 'irish': False, 'accent': False, 'flawless': False, 'orlando': False, 'bloom': False, 'naomi': False, 'watt': False, 'how': False, 'true': False, 'happen': False, 'idea': False, 'portray': False, 'peopl': False, 'sometim': False, 'mayb': False, 'author': False, 'alway': False, 'corrupt': False, 'sign': False, 'petit': False, 'ned': False, 'kelli': False, 'hang': False, 'truth': False, 'remind': False, 'cold': False, 'mountain': False, 'anoth': False, 'histor': False, 'all': False, 'recommend': False, 'somewhat': False, 'baffl': False, 'didnt': False, 'better': True, 'cinema': False, 'extrem': False, 'bore': False, 'femal': False, 'gas': False, 'station': False, 'owner': False, 'life': False, 'noth': False, 'excit': False, 'kept': False, 'real': False, 'feel': False, 'camera': False, 'follow': False, 'woman': True, 'class': False, 'assignmentit': False, 'worth': False, 'boring': False, 'grade': False, 'overal': True, 'unless': False, 'requir': False, 'dont': True, 'discount': False, 'badand': False, 'africa': False, 'usual': False, 'especi': False, 'done': False, 'western': False, 'eric': False, 'rohmer': False, 'ladi': False, 'duke': False, 'base': False, 'journal': False, 'english': False, 'aristocrat': False, 'french': False, 'revolut': False, 'stilt': False, 'affair': False, 'paint': False, 'backdrop': False, 'convers': False, 'tone': False, 'portrait': False, 'age': False, 'terror': False, 'entir': False, 'remov': False, 'ordinari': False, 'chao': False, 'poverti': False, 'unfold': False, 'draw': False, 'persecut': False, 'spoilt': False, 'result': False, 'frequent': False, 'dull': False, 'ultim': False, 'unenlighten': False, 'societi': False, 'brink': False, 'destruct': False, 'acclaim': False, 'surpris': False, 'posit': False, 'vote': False, 'receiv': False, 'drag': False, 'along': False, 'minut': False, 'span': False, 'audienc': False, 'suffer': False, 'moment': False, 'charli': False, 'spradl': False, 'decent': False, 'she': False, 'given': False, 'pathet': False, 'dialogu': False, 'scott': False, 'merrideth': False, 'boyfriend': False, 'tie': False, 'rough': False, 'highlight': False, 'lay': False, 'beach': False, 'tigerpattern': False, 'chummiesg': False, 'break': False, 'us': False, 'boorish': False, 'vampir': False, 'day': False, 'rendit': False, 'denic': False, 'duff': False, 'bloodstorm': False, 'subspeci': False, 'slow': False, 'punctuat': False, 'danc': False, 'karen': False, 'sarah': False, 'michell': False, 'gellar': False, 'exchang': False, 'student': False, 'japan': False, 'social': False, 'sent': False, 'aid': False, 'semicataton': False, 'emma': False, 'grace': False, 'zabriski': False, 'previous': False, 'caretak': False, 'yoko': False, 'maki': False, 'disappear': False, 'soon': False, 'learn': True, 'home': False, 'deep': False, 'rabbit': False, 'hole': False, 'goesbr': False, 'delay': False, 'influenc': False, 'success': False, 'm': False, 'night': False, 'shyamalan': False, 'slowerpac': False, 'underst': False, 'hide': False, 'seek': False, 'approach': False, 'white': False, 'nois': False, 'pace': False, 'tend': False, 'grudg': False, 'quit': False, 'filmit': False, 'earn': False, 'mebr': False, 'signific': False, 'differ': False, 'exampl': False, 'howev': False, 'known': False, 'remak': False, 'japanes': False, 'seri': False, 'began': False, 'juon': False, 'close': False, 'half': False, 'aka': False, 'slower': False, 'realm': False, 'realist': False, 'drama': False, 'as': False, 'larg': False, 'european': False, 'nightmarebr': False, 'takashi': False, 'shimizu': False, 'five': False, 'entri': False, 'date': False, 'fifth': False, 'current': False, 'writer': False, 'stephen': False, 'susco': False, 'dispens': False, 'linear': False, 'over': False, 'behind': False, 'instead': False, 'present': False, 'dreamlik': False, 'sequenc': False, 'dream': False, 'focus': False, 'atmospher': False, 'creepi': False, 'uncanni': False, 'viewersscar': False, 'depend': False, 'adapt': False, 'filmmak': False, 'admit': False, 'gap': False, 'fill': False, 'tradit': False, 'american': False, 'flaw': False, 'leav': False, 'thread': False, 'abandon': False, 'monster': False, 'poetic': False, 'metaphor': False, 'accept': False, 'mainstream': False, 'usbr': False, 'suspend': False, 'normal': False, 'preconcept': False, 'shot': False, 'written': True, 'direct': False, 'properti': False, 'interweav': False, 'number': False, 'main': True, 'episod': False, 'subtl': False, 'design': False, 'touch': False, 'cloth': False, 'match': False, 'textur': False, 'exterior': False, 'materialbr': False, 'slowli': False, 'averag': False, 'enhanc': False, 'shortag': False, 'bizarr': False, 'event': False, 'entertain': False, 'supernatur': False, 'premis': False, 'absorb': False, 'interview': False, 'dvd': False, 'prod': False, 'pay': False, 'attent': False, 'folklor': False, 'subtext': False, 'probabl': False, 'aris': False, 'intim': False, 'knowledg': False, 'cultur': False, 'ponder': False, 'scari': False, 'children': False, 'adult': False, 'childrenbr': False, 'subtract': False, 'point': False, 'slight': False, 'veer': False, 'clichd': False, 'mysterythril': False, 'territori': False, 'here': False, 'flashback': False, 'otherwis': False, 'let': False, 'finish': False, 'minir': False, 'antiremak': False, 'ridicul': False, 'distributor': False, 'studio': False, 'need': False, 'foreign': False, 'appropri': False, 'consumpt': False, 'origin': False, 'version': False, 'play': False, 'theater': False, 'wide': False, 'ident': False, 'substitut': False, 'nonwhit': False, 'fine': False, 'id': False, 'treat': False, 'latest': False, 'filmsnot': False, 'indian': False, 'spanish': False, 'chines': False, 'etcat': False, 'multiplex': False, 'hope': False, 'costeffect': False, 'complet': False, 'simpli': False, 'domest': False, 'distribut': False, 'deal': False, 'profit': False, 'money': False, 'dvds': False, 'manufactur': False, 'bootleg': False, 'top': False, 'list': False, 'thrill': False, 'progress': False, 'wish': False, 'some': False, 'think': False, 'saymor': False, 'power': False, 'which': False, 'bring': False, 'stinker': False, 'stupid': False, 'wast': False, 'agre': False, 'sens': False, 'figur': False, 'andwel': False, 'sucksbad': False, 'befor': False, 'crash': False, 'call': False, 'grand': False, 'canyon': False, 'former': False, 'background': False, 'friend': False, 'lifetim': False, 'slouch': False, 'eitherbr': False, 'los': False, 'angel': False, 'upperclass': False, 'lawyer': False, 'name': False, 'mack': False, 'kevin': False, 'kline': False, 'shortcut': False, 'seedier': False, 'side': False, 'town': True, 'tow': False, 'truck': False, 'awhil': False, 'threaten': False, 'group': False, 'danger': False, 'driver': False, 'step': False, 'simon': False, 'danni': False, 'glover': False, 'both': False, 'dire': False, 'strait': False, 'friendship': False, 'help': True, 'earlier': False, 'sister': False, 'deborah': False, 'tina': False, 'lifford': False, 'neighborhood': False, 'fear': False, 'oldest': False, 'roam': False, 'street': False, 'offer': False, 'hook': False, 'jane': False, 'alfr': False, 'woodard': False, 'smaller': False, 'involv': False, 'mention': False, 'louis': False, 'parker': False, 'wife': False, 'mcdonnel': False, 'babi': False, 'roberto': False, 'jeremi': False, 'sisto': False, 'gone': False, 'summer': False, 'detail': False, 'complex': False, 'polic': True, 'helicopt': False, 'bridg': False, 'entwin': False, 'simpl': False, 'devic': False, 'flow': False, 'storybr': False, 'lawrenc': False, 'kasdan': False, 'biggest': False, 'big': False, 'chill': False, 'creat': False, 'splendid': False, 'cast': False, 'excel': False, 'ala': False, 'fall': False, 'short': False, 'wouldv': False, 'stronger': False, 'gloss': False, 'nephew': False, 'these': False, 'shouldv': False, 'upper': False, 'superior': False, 'level': False, 'exceed': False, 'steve': False, 'martin': False, 'davi': False, 'produc': False, 'violent': False, 'poor': False, 'basil': False, 'rathbon': False, 'egotist': False, 'compos': False, 'whos': False, 'lost': False, 'muse': False, 'fake': False, 'lyric': False, 'music': False, 'sourc': False, 'troubl': False, 'bing': False, 'crosbi': False, 'word': False, 'meet': False, 'theyv': False, 'ensu': False, 'endbr': False, 'sing': False, 'terrif': False, 'paramount': False, 'contract': False, 'doubl': False, 'regular': False, 'kraft': False, 'hall': False, 'radio': False, 'reason': False, 'went': False, 'broadway': False, 'venus': False, 'therebr': False, 'ego': False, 'constant': False, 'deflat': False, 'sidekick': False, 'oscar': False, 'levant': False, 'togetherbr': False, 'vehicl': False, 'review': False, 'tune': False, 'impromptu': False, 'jam': False, 'session': False, 'pawn': False, 'shop': False, 'allbr': False, 'spoiler': False, 'aheadbr': False, 'redeem': False, 'qualiti': False, 'tricki': False, 'lead': False, 'shock': False, 'edg': False, 'seat': False, 'spend': False, 'punch': False, 'stolen': False, 'organ': False, 'aquarium': False, 'plant': False, 'bed': False, 'advanc': False, 'teleport': False, 'alex': False, 'thoma': False, 'drunk': False, 'boat': False, 'imposs': False, 'angi': False, 'harmon': False, 'put': False, 'piti': False, 'kate': False, 'spacetim': False, 'continuum': False, 'ruptur': False, 'dialog': False, 'appear': False, 'grader': False, 'an': False, 'flashlight': False, 'threshold': False, 'human': False, 'bodi': False, 'cring': False, 'snap': False, 'edit': False, 'far': False, 'horrif': False, 'cameramen': False, 'bunch': False, 'chimp': False, 'camcord': False, 'scientist': False, 'sudden': False, 'closeup': False, 'headlight': False, 'bet': False, 'absolut': False, 'obvious': False, 'line': False, 'viewer': False, 'yeah': False, 'left': False, 'dumb': False, 'spider': False, 'somehow': False, 'fit': False, 'perspect': False, 'million': False, 'fester': False, 'crapbr': False, 'record': False, 'book': False, 'whi': False, 'strong': False, 'campaign': False, 'tom': False, 'sellick': False, 'earth': False, 'must': False, 'ad': False, 'serv': False, 'demean': False, 'women': False, 'tidbit': False, 'weve': False, 'slept': False, 'husband': False, 'couldnt': False, 'nation': False, 'convent': False, 'spoof': False, 'air': False, 'major': False, 'polit': False, 'total': False, 'ignor': False, 'nomin': False, 'select': False, 'process': False, 'sheer': False, 'attract': False, 'similar': False, 'anita': False, 'me': False, 'caus': False, 'hype': False, 'beckham': False, 'elsebr': False, 'brilliant': False, 'messag': False, 'determin': False, 'enough': False, 'mind': False, 'anyon': False, 'filmbr': False, 'keira': False, 'knightley': False, 'actress': False, 'parmind': False, 'nagra': False, 'sad': False, 'cant': False, 'jonathan': False, 'rhysmey': False, 'eye': False, 'scarybr': False, 'neither': False, 'three': False, 'central': False, 'charm': False, 'erika': False, 'arent': False, 'carri': False, 'lamest': False, 'inflict': False, 'upon': False, 'unconvinc': False, 'militari': False, 'bother': False, 'dicken': False, 'novel': False, 'georg': False, 'c': False, 'scroog': False, 'choic': False, 'hilta': False, 'support': False, 'modern': False, 'scale': False, 'ten': False, 'forti': False, 'empir': False, 'shape': False, 'confid': False, 'relat': False, 'unknown': False, 'gangster': False, 'at': False, 'know': False, 'problem': False, 'pure': False, 'utter': False, 'distast': False, 'psycho': False, 'prove': False, 'jacki': False, 'brown': False, 'shallow': False, 'thrown': False, 'liter': False, 'knot': False, 'stomach': False, 'protagonist': False, 'smug': False, 'iron': False, 'tight': False, 'drugdeal': False, 'pretenti': False, 'slick': False, 'meaningless': False, 'coloss': False, 'mess': False, 'deft': False, 'reminisc': False, 'scorces': False, 'oliv': False, 'heat': False, 'explos': False, 'jerri': False, 'bruckheim': False, 'witti': False, 'tarantino': False, 'script': False, 'epic': False, 'godfatherbr': False, 'judg': False, 'reinhold': False, 'display': False, 'fieri': False, 'temperememt': False, 'emot': False, 'depth': False, 'intens': False, 'robert': False, 'de': False, 'niro': False, 'jake': False, 'la': False, 'motta': False, 'rage': False, 'bullbr': False, 'breathtak': False, 'bullit': False, 'depict': False, 'octan': False, 'push': False, 'boundri': False, 'technolog': False, 'limit': False, 'independ': False, 'surpassedbr': False, 'parti': False, 'invit': False, 'classi': False, 'locat': False, 'grip': False, 'aw': False, 'wonder': False, 'rental': False, 'copi': False, 'joke': False, 'wellbr': False, 'gradi': False, 'travi': False, 'brigley': False, 'kickbox': False, 'theme': False, 'moviesbr': False, 'john': False, 'game': False, 'serious': False, 'undi': False, 'unreal': False, 'engin': False, 'resembl': False, 'came': False, 'gameplay': False, 'speak': False, 'difficulti': False, 'enemi': False, 'unqiu': False, 'may': False, 'pack': False, 'load': False, 'secret': False, 'uncov': False, 'vision': False, 'weapon': False, 'do': False, 'roommat': False, 'descent': False, 'travel': True, 'cave': False, 'decid': False, 'anyway': False, 'public': False, 'horribl': False, 'accid': False, 'scar': False, 'semilow': False, 'colleg': False, 'assault': False, 'boy': False, 'porno': False, 'rapist': False, 'rate': False, 'nc': False, 'kid': False, 'trailer': False, 'wouldnt': False, 'mark': False, 'turn': True, 'bmovi': False, 'veri': False, 'somewher': False, 'unpredict': False, 'closur': False, 'light': False, 'deliveri': False, 'write': False, 'lot': True, 'saxophon': False, 'throughout': False, 'rest': False, 'while': False, 'suppos': False, 'morocco': False, 'foggi': False, 'romania': False, 'broken': False, 'card': False, 'crew': False, 'skill': False, 'commit': False, 'nikolaj': False, 'coasterwaldau': False, 'formid': False, 'gem': False, 'whether': False, 'alexandra': False, 'staden': False, 'inadequaci': False, 'modesti': False, 'blais': False, 'they': True, 'interpret': False, 'delight': False, 'overcom': False, 'disciplin': False, 'innat': False, 'courag': False, 'glad': False, 'mrsandler': False, 'becam': False, 'famousbr': False, 'badbadbadbad': False, 'pain': False, 'moviebr': False, 'enjoy': False, 'filmsbut': False, 'mestay': False, 'chang': False, 'adam': False, 'recov': False, 'filmiv': False, 'folk': False, 'scrabbl': False, 'wwii': False, 'naval': False, 'histori': False, 'buff': False, 'proud': False, 'countri': False, 'race': False, 'schlock': False, 'sub': False, 'attack': False, 'uboat': False, 'torpedo': False, 'dde': False, 'abl': False, 'submerg': False, 'preposter': False, 'board': False, 'crappi': False, 'propaganda': False, 'allwhit': False, 'black': False, 'smack': False, 'fals': False, 'advertis': False, 'headlin': False, 'ossi': False, 'rea': False, 'minor': False, 'embarrass': False, 'associ': False, 'crap': False, 'studi': False, 'architectur': False, 'explor': False, 'weird': False, 'laid': False, 'mansion': False, 'search': False, 'passageway': False, 'crypt': False, 'track': False, 'duct': False, 'forth': False, 'offhand': False, 'recal': False, 'throughoutdemon': False, 'seed': False, 'cube': False, 'thirteen': False, 'ghostsbut': False, 'everi': False, 'spooki': False, 'church': False, 'affect': False, 'space': False, 'passag': False, 'wall': False, 'promis': True, 'architect': False, 'builtactu': False, 'rebuiltfor': False, 'huge': False, 'rambl': False, 'selfcentered': False, 'remodel': False, 'unaccustom': False, 'solitud': False, 'virtual': False, 'somebodi': False, 'elsea': False, 'stranger': False, 'ask': True, 'disappearedi': False, 'himbr': False, 'start': False, 'melodrama': False, 'after': False, 'intrud': False, 'resort': False, 'blueprint': False, 'systemat': False, 'intercept': False, 'ambush': False, 'built': False, 'structur': False, 'meanwhil': False, 'forese': False, 'catandmous': False, 'hunt': False, 'battl': False, 'creation': False, 'itand': False, 'selfimpos': False, 'isolationand': False, 'nail': False, 'erbr': False, 'nemesi': False, 'exist': False, 'onc': False, 'instal': False, 'houseif': False, 'isth': False, 'hear': False, 'goe': True, 'investig': False, 'nut': False, 'persuad': False, 'estrang': False, 'els': False, 'benot': False, 'question': False, 'fewer': False, 'princip': False, 'whereupon': False, 'grill': False, 'key': False, 'necessari': False, 'victim': False, 'starv': False, 'steel': False, 'languish': False, 'undevelop': False, 'devis': False, 'architectar': False, 'readymov': False, 'presum': False, 'possibl': False, 'rout': False, 'drawn': False, 'sit': False, 'observ': False, 'neighbor': False, 'waybr': False, 'if': False, 'verg': False, 'implaus': False, 'plung': False, 'resid': False, 'wheelchairridden': False, 'unbeknownst': False, 'stealthi': False, 'cun': False, 'hostess': False, 'enter': False, 'duck': False, 'sight': False, 'section': False, 'essenc': False, 'reclus': False, 'conveni': False, 'buffer': False, 'inabl': False, 'transform': False, 'raffl': False, 'catburglar': False, 'incred': False, 'endinclud': False, 'achiev': False, 'invinc': False, 'doorthi': False, 'front': True, 'land': False, 'flimsi': False, 'collaps': False, 'weight': False, 'wheelchair': False, 'nice': False, 'stride': False, 'unnot': False, 'construct': False, 'tunnel': False, 'sever': False, 'longanticip': False, 'add': False, 'offens': False, 'thenendsbr': False, 'thingsth': False, 'isand': False, 'fumbl': False, 'angri': False, 'farther': False, 'zigzaggi': False, 'path': False, 'explan': False, 'tunnelbuild': False, 'sneakten': False, 'redon': False, 'overblown': False, 'typic': False, 'period': False, 'mid': False, 'matin': False, 'food': False, 'rock': False, 'hudson': False, 'hulk': False, 'stereotyp': False, 'wherea': False, 'giant': False, 'materi': False, 'costar': False, 'taylor': False, 'dean': False, 'rais': False, 'calibr': False, 'beyond': False, 'mushi': False, 'tale': False, 'difficult': False, 'happi': False, 'selfdestruct': False, 'stack': False, 'reel': False, 'drunken': False, 'stupor': False, 'dorothi': False, 'malon': False, 'vampish': False, 'loser': False, 'bacal': False, 'wooden': False, 'paraphras': False, 'wild': False, 'happili': False, 'unhappili': False, 'fiction': False, 'vindic': False, 'homosexu': False, 'disguis': False, 'heterosexu': False, 'term': False, 'remad': False, 'ring': False, 'truer': False, 'mitch': False, 'marri': False, 'todd': False, 'hay': False, 'from': False, 'heaven': False, 'improv': False, 'allow': False, 'sirk': False, 'hayn': False, 'wind': False, 'memor': False, 'garbag': False, 'fight': False, 'van': False, 'damm': False, 'ninja': False, 'sculpturesbr': False, 'born': False, 'sbr': False, 'toni': False, 'jaa': False, 'ong': False, 'bak': False, 'protector': False, 'proper': False, 'martial': False, 'art': False, 'filmsbr': False, 'laugh': False, 'today': False, 'unintenion': False, 'humour': False, 'grim': False, 'vow': False, 'ago': False, 'member': False, 'saturday': False, 'corki': False, 'romano': False, 'unfail': False, 'hour': False, 'fail': False, 'tedious': False, 'hilari': False, 'nutshel': False, 'ursula': False, 'andress': False, 'god': False, 'maid': False, 'higher': False, 'quantiti': False, 'nuditi': False, 'becaus': False, 'unbeliev': False, 'unfunni': False, 'full': False, 'cut': False, 'extran': False, 'italiancomedi': False, 'exagger': False, 'caricatur': False, 'armi': False, 'freak': False, 'latin': False, 'lover': False, 'naiv': False, 'overact': False, 'finger': False, 'fastforward': False, 'button': False, 'gon': False, 'na': False, 'dub': False, 'yuck': False, 'ruin': False, 'jet': False, 'li': False, 'artist': False, 'ill': False, 'stick': False, 'chan': False, 'par': False, 'inde': False, 'unnecessarybr': False, 'languag': False, 'mine': False, 'vhs': False, 'includ': False, 'paper': False, 'translat': False, 'whistl': False, 'melodi': False, 'open': False, 'credit': False, 'stuck': False, 'colour': False, 'minim': False, 'absurd': False, 'slapstick': False, 'pari': False, 'texa': False, 'nenett': False, 'et': False, 'boni': False, 'whenev': False, 'whatev': False, 'soundtrack': False, 'told': False, 'thousand': False, 'rare': False, 'funiest': False, 'parodi': False, 'crimelif': False, 'repres': False, 'chicago': False, 'reali': False, 'underestim': False, 'opinion': False, 'mass': False, 'hypnot': False, 'who': False, 'regret': False, 'paid': False, 'comment': False, 'soap': False, 'opera': False, 'except': False, 'bana': False, 'brad': False, 'pitt': False, 'bold': False, 'shame': False, 'either': False, 'linger': False, 'brook': False, 'forrest': False, 'lab': False, 'peter': False, 'otool': False, 'plastic': False, 'surgeri': False, 'desper': False, 'evan': False, 'dian': False, 'kruger': False, 'troy': False, 'peterson': False, 'chosen': False, 'saffron': False, 'burrow': False, 'elizabeth': False, 'miscast': False, 'matrix': False, 'angl': False, 'attemp': False, 'fell': False, 'asleep': False, 'rain': False, 'jump': False, 'annoy': False, 'lose': False, 'beg': False, 'suggest': False, 'disc': False, 'casebr': False, 'mafia': False, 'tragic': False, 'comic': False, 'describ': False, 'comedybr': False, 'excus': False, 'chris': False, 'kattan': False, 'overplay': False, 'lack': False, 'subtleti': False, 'credul': False, 'contriv': False, 'bounc': False, 'predict': False, 'comed': False, 'occur': False, 'introduc': False, 'bean': False, 'disast': False, 'empathis': False, 'initi': False, 'telegraph': False, 'deliber': False, 'screw': False, 'audiencebr': False, 'alien': False, 'connect': False, 'behaviour': False, 'inexplic': False, 'werent': False, 'familiar': False, 'watchabl': False, 'got': False, 'pitch': False, 'promot': False, 'halfway': False, 'constraint': False, 'springer': False, 'sex': False, 'violenc': False, 'hebr': False, 'porn': False, 'wise': False, 'shoulda': False, 'scurril': False, 'market': False, 'penetr': False, 'exercis': False, 'postcoloni': False, 'mix': False, 'altruist': False, 'pretens': False, 'expos': False, 'slaveri': False, 'shortcom': False, 'undu': False, 'african': False, 'arabsbr': False, 'anansa': False, 'linderbi': False, 'africanamerican': False, 'doctor': False, 'captur': False, 'arab': False, 'slavetrad': False, 'teenag': False, 'sanufu': False, 'suleiman': False, 'stage': False, 'floweri': False, 'rhetor': False, 'gestur': False, 'on': False, 'camel': False, 'deserv': False, 'ustinov': False, 'address': False, 'rescu': False, 'woeful': False, 'onedimension': False, 'characterbr': False, 'continu': False, 'employe': False, 'unintellig': False, 'paedophil': False, 'tendenc': False, 'toward': True, 'thank': False, 'port': False, 'local': False, 'pompous': False, 'incompet': False, 'bureaucrat': False, 'expat': False, 'englishman': False, 'walker': False, 'rex': False, 'harrison': False, 'sandel': False, 'holden': False, 'mercenari': False, 'mixedrac': False, 'relationship': False, 'refus': False, 'payment': False, 'won': False, 'conscious': False, 'captiv': False, 'cross': False, 'unabl': False, 'pursu': False, 'neighbour': False, 'hesit': False, 'firearm': False, 'survivesbr': False, 'we': False, 'malik': False, 'kabir': False, 'bedi': False, 'driven': False, 'vengeanc': False, 'tuareg': False, 'suleimanbr': False, 'heartrend': False, 'slave': False, 'trader': False, 'send': False, 'met': False, 'earlierbr': False, 'rape': False, 'witch': False, 'overton': False, 'henchmen': False, 'despit': False, 'sceptic': False, 'demis': False, 'employeesbr': False, 'by': False, 'within': False, 'reach': False, 'marketbr': False, 'doubt': False, 'sell': False, 'obscen': False, 'princ': False, 'omar': False, 'sharif': False, 'un': False, 'unwis': False, 'bargain': False, 'consequ': False, 'haggl': False, 'sold': False, 'german': False, 'wunderbar': False, 'witchdoctor': False, 'skillsbr': False, 'confront': False, 'bittersweet': False, 'viewbr': False, 'reunit': False, 'consol': False, 'task': False, 'completedbr': False, 'late': False, 'costum': False, 'wow': False, 'yourselfbr': False, 'muchbr': False, 'bride': False, 'altar': False, 'corps': False, 'vanish': False, 'report': False, 'luana': False, 'walter': False, 'note': False, 'orchid': False, 'creator': False, 'lorenz': False, 'bela': False, 'lugosi': False, 'habit': False, 'coffin': False, 'inject': False, 'russel': False, 'fluid': False, 'youngbr': False, 'shouldnt': False, 'clich': False, 'plotbr': False, 'itbela': False, 'evil': False, 'suav': False, 'aloof': False, 'countess': False, 'angelo': False, 'rossitto': False, 'herebr': False, 'maintain': False, 'gothic': False, 'decentbr': False, 'hold': False, 'master': False, 'tear': False, 'dinosaur': False, 'bull': False, 'pacino': False, 'scarfac': False, 'crow': False, 'gladiat': False, 'combin': False, 'superbit': False, 'format': False, 'meant': False, 'whoppi': False, 'goldberg': False, 'tough': False, 'gritti': False, 'cop': False, 'team': False, 'hot': False, 'partner': False, 'hijinx': False, 'opposit': False, 'ernest': False, 'borgnin': False, 'moviether': False, 'movieon': False, 'greatest': False, 'wastedand': False, 'none': False, 'everso': False, 'america': False, 'them': False, 'alon': False, 'wonderland': False, 'certain': False, 'nearfev': False, 'incoher': False, 'speed': False, 'cover': False, 'weak': False, 'accur': False, 'reflect': False, 'drugaddl': False, 'realitybr': False, 'cox': False, 'peculiar': False, 'perpetu': False, 'often': False, 'ugli': False, 'person': False, 'val': False, 'kilmer': False, 'holm': False, 'hustler': False, 'manipul': False, 'drastic': False, 'weakmind': False, 'nonetheless': False, 'stun': False, 'compar': False, 'hollywood': False, 'saint': False, 'indi': False, 'flicksbr': False, 'fisher': False, 'bosworth': False, 'lisa': False, 'kudrow': False, 'screen': False, 'male': False, 'counterpart': False, 'asid': False, 'ted': False, 'levin': False, 'dylan': False, 'mcdermott': False, 'energi': False, 'rolesbr': False, 'assum': False, 'strictest': False, 'revolv': False, 'career': False, 'basic': False, 'excellentbr': False, 'effort': False, 'felt': False, 'bartlebi': False, 'scriven': False, 'unfilm': False, 'needless': False, 'revis': False, 'updat': False, 'new': False, 'york': False, 'london': False, 'superb': False, 'scofield': False, 'salvag': False, 'misguid': False, 'melvill': False, 'metaphys': False, 'lampoon': False, 'lamer': False, 'inept': False, 'plan': True, 'outer': False, 'spacebr': False, 'segment': False, 'genr': False, 'feet': False, 'sicken': False, 'thud': False, 'rhyme': False, 'execr': False, 'vignett': False, 'discern': False, 'linesbr': False, 'site': False, 'nude': False, 'ganzel': False, 'dusenberri': False, 'flash': False, 'flesh': False, 'realiz': False, 'ta': False, 'surround': False, 'robbi': False, 'benson': False, 'widmark': False, 'eagerbeav': False, 'policeman': False, 'pair': False, 'cynic': False, 'oldtim': False, 'odious': False, 'cinemat': False, 'hearten': False, 'redempt': False, 'idealist': False, 'purifi': False, 'luck': False, 'fadeout': False, 'pervers': False, 'stretch': False, 'longer': False, 'maker': False, 'hooper': False, 'chainsaw': False, 'massacr': False, 'dip': False, 'crack': False, 'dude': False, 'sam': False, 'abil': False, 'firestart': False, 'godaw': False, 'rubbish': False, 'pleas': False, 'derail': False, 'glow': False, 'blue': False, 'blob': False, 'suck': False, 'girlfriend': True, 'was': False, 'huh': False, 'spontani': False, 'combust': False, 'painbr': False, 'obey': False, 'research': False, 'lds': False, 'itbr': False, 'factual': False, 'isbr': False, 'restor': False, 'jesus': False, 'christ': False, 'latter': False, 'joseph': False, 'smith': False, 'diseas': False, 'court': False, 'birth': False, 'import': False, 'reveal': False, 'marylin': False, 'monro': False, 'albert': False, 'einstein': False, 'joe': False, 'dimaggio': False, 'senat': False, 'mccarthi': False, 'mindbend': False, 'relativitybr': False, 'roman': False, 'clef': False, 'thin': False, 'veil': False, 'scath': False, 'individu': False, 'allegori': False, 'predigest': False, 'demand': False, 'opus': False, 'reward': False, 'appreci': False, 'drop': False, 'rigor': False, 'deliv': False, 'pacifist': False, 'speech': False, 'unit': False, 'hellbent': False, 'nuke': False, 'visit': False, 'notori': False, 'seven': False, 'itch': False, 'led': False, 'marriag': False, 'interplay': False, 'stumbl': False, 'suitabl': False, 'professori': False, 'clumsi': False, 'innoc': False, 'symbol': False, 'red': False, 'extract': False, 'activ': False, 'unamerican': False, 'committe': False, 'peac': False, 'fragil': False, 'vulner': False, 'gari': False, 'busey': False, 'exhibition': False, 'theori': False, 'just': False, 'deepest': False, 'haunt': False, 'lend': False, 'exclus': False, 'abstract': False, 'statement': False, 'momentbr': False, 'insignific': False, 'seldom': False, 'imdb': False, 'filmgoer': False, 'lightweight': False, 'incentivebr': False, 'happenst': False, 'le': False, 'battement': False, 'dail': False, 'du': False, 'papillon': False, 'serendip': False, 'fate': False, 'culmin': False, 'random': False, 'might': False, 'fatedbr': False, 'occurr': False, 'knock': False, 'lettuc': False, 'decis': False, 'accuraci': False, 'toss': False, 'pebbl': False, 'incid': False, 'domino': False, 'multipli': False, 'imagin': False, 'scenario': False, 'diagnosi': False, 'magic': False, 'cinemabr': False, 'writerdirector': False, 'weav': False, 'unrel': False, 'enmesh': False, 'citizen': False, 'whimsic': False, 'or': False, 'anywher': False, 'engag': False, 'stitch': False, 'heal': False, 'award': False, 'winner': False, 'cult': False, 'happenedbr': False, 'soren': False, 'kierkegaard': False, 'attribut': False, 'understood': False, 'backward': False, 'gift': False, 'auto': False, 'answer': False, 'existentialist': False, 'explain': False, 'tenyear': False, 'christoph': False, 'lloyd': False, 'sorri': False, 'jeff': False, 'daniel': False, 'widow': False, 'anthoni': False, 'steffen': False, 'alan': False, 'cunningham': False, 'sadomasochist': False, 'british': False, 'lord': False, 'sexi': False, 'redhair': False, 'castl': False, 'whip': False, 'blackboot': False, 'stripper': False, 'blanc': False, 'susi': False, 'temporarili': False, 'evelyn': False, 'childbirth': False, 'therapi': False, 'blond': False, 'marina': False, 'malfatti': False, 'gladi': False, 'dig': False, 'grave': False, 'out': False, 'leastbr': False, 'nott': False, 'che': False, 'usc': False, 'dalla': False, 'tomba': False, 'emilio': False, 'miraglia': False, 'edgi': False, 'briefli': False, 'advis': False, 'advic': False, 'risk': False, 'spoilingbr': False, 'eva': False, 'mendez': False, 'headstrong': False, 'successstarv': False, 'network': False, 'tv': False, 'programm': False, 'cowork': False, 'brainstorm': False, 'program': False, 'russian': False, 'roulett': False, 'documentari': False, 'pursuit': False, 'tast': False, 'elev': False, 'denigr': False, 'bright': False, 'oper': False, 'wavelength': False, 'selfinfatu': False, 'silverman': False, 'self': False, 'homerian': False, 'predica': False, 'simpsonian': False, 'brief': False, 'earli': False, 'donebr': False, 'chokeonyourfoodandwetyourp': False, 'therefor': False, 'fast': False, 'diaper': False, 'gotten': False, 'system': False, 'whybr': False, 'curs': False, 'gather': False, 'death': False, 'those': False, 'encount': False, 'consum': False, 'furi': False, 'sound': False, 'intrigu': False, 'critic': False, 'sole': False, 'purpos': False, 'scare': False, 'imag': False, 'sluizer': False, 'valiant': False, 'build': False, 'repeat': False, 'thisbr': False, 'housebr': False, 'andor': False, 'investigatebr': False, 'loudbr': False, 'ghostbr': False, 'loud': False, 'cat': False, 'screechbr': False, 'blackbr': False, 'hint': False, 'exact': False, 'subsequ': False, 'laughabl': False, 'roll': False, 'wrongbr': False, 'liner': False, 'storylin': False, 'jumbl': False, 'nonlinear': False, 'storytel': False, 'havent': False, 'state': False, 'theatric': False, 'highland': False, 'techniqu': False, 'mar': False, 'ghost': False, 'attic': False, 'care': False, 'everyonebr': False, 'greenlit': False, 'calcul': False, 'imit': False, 'scariest': False, 'dollar': False, 'grew': False, 'scoobi': False, 'kinda': False, 'rerun': False, 'scrappi': False, 'daphn': False, 'gang': False, 'doo': False, 'solv': False, 'comedynot': False, 'spys': False, 'jap': False, 'anim': False, 'dangerpron': False, 'makeov': False, 'drug': False, 'generat': False, 'clue': False, 'flat': False, 'attach': False, 'punk': False, 'song': False, 'wash': False, 'filth': False, 'unworthi': False, 'omen': False, 'ought': False, 'titlebr': False, 'spell': False, 'damien': False, 'thorn': False, 'correct': False, 'element': False, 'shelv': False, 'burn': True, 'among': False, 'hopeless': False, 'evid': False, 'score': False, 'brutal': False, 'chop': False, 'phrase': False, 'serial': False, 'voodoo': False, 'tarot': False, 'appal': False, 'cheap': False, 'camerawork': False, 'dread': False, 'again': False, 'busi': False, 'segreg': False, 'row': False, 'own': False, 'caucasian': False, 'ghetto': False, 'with': False, 'grow': False, 'blight': False, 'reviv': False, 'wave': False, 'blaxploit': False, 'grind': False, 'overlaid': False, 'funki': False, 'b': False, 'spread': False, 'blacula': False, 'blackenstein': False, 'sugar': False, 'hill': True, 'directtodvd': False, 'ed': True, 'jose': False, 'quiroz': False, 'hood': False, 'adopt': False, 'hiphop': False, 'ricki': False, 'carl': False, 'washington': False, 'oakland': False, 'younger': False, 'jermain': False, 'brandon': False, 'parent': False, 'dealer': False, 'drivebi': False, 'experiment': False, 'regener': False, 'formula': False, 'teen': False, 'naught': False, 'taken': False, 'morgu': False, 'reanim': False, 'fleshhungri': False, 'zombi': False, 'infect': False, 'wherev': False, 'have': False, 'derek': False, 'ii': False, 'marco': False, 'raul': False, 'martinez': False, 'accomplic': False, 'arrest': False, 'mayhem': False, 'contagion': False, 'overextend': False, 'shoddi': False, 'shoot': False, 'extra': False, 'brain': False, 'uneas': False, 'subeminem': False, 'rap': False, 'smart': False, 'shaki': False, 'sector': False, 'ie': False, 'romanc': False, 'bourn': False, 'onebr': False, 'warn': False, 'adrenalin': False, 'calm': False, 'cari': False, 'grant': False, 'myrna': False, 'loy': False, 'middl': False, 'blown': False, 'countless': False, 'budgetbr': False, 'contractor': False, 'expens': False, 'excess': False, 'exit': False, 'client': False, 'reduct': False, 'totalor': False, 'packag': False, 'cool': False, 'raccoon': False, 'mask': False, 'zero': False, 'effectsand': False, 'lommel': False, 'classichowev': False, 'sat': False, 'channel': False, 'guid': False, 'jami': False, 'foxx': False, 'movement': False, 'mors': False, 'impress': False, 'renter': False, 'fiveyearold': False, 'michael': False, 'axe': False, 'father': False, 'highwayman': False, 'grown': False, 'mike': False, 'gordon': False, 'curri': False, 'puppet': False, 'seclud': False, 'grandpar': False, 'halloween': False, 'morti': False, 'lifes': False, 'doll': False, 'handyman': False, 'possess': False, 'spirit': False, 'phobia': False, 'drown': False, 'toilet': False, 'eaten': False, 'rat': False, 'etc': False, 'morph': False, 'dad': False, 'tree': False, 'wisecrack': False, 'stuf': False, 'cardboard': False, 'cheer': False, 'sexbr': False, 'betsi': False, 'palmer': False, 'mrs': False, 'voorhe': False, 'friday': False, 'th': False, 'grandmoth': False, 'senseless': False, 'braindead': False, 'footag': False, 'distort': False, 'plus': False, 'halfblack': False, 'blah': False, 'outfield': False, 'hadnt': False, 'sophomor': False, 'school': False, 'rant': False, 'recommendbr': False, 'fashion': False, 'novic': False, 'revel': False, 'witchcraft': False, 'hocus': False, 'pocus': False, 'charmingbr': False, 'villag': False, 'pepper': False, 'cockney': False, 'rollin': False, 'evacu': False, 'war': False, 'citi': False, 'raid': False, 'mistak': False, 'eglantin': False, 'price': False, 'correspond': False, 'apprentic': False, 'trio': False, 'knob': False, 'order': False, 'fli': False, 'emilius': False, 'fraudul': False, 'headmast': False, 'train': False, 'inanim': False, 'object': False, 'shadi': False, 'bookman': False, 'swinburnebr': False, 'angela': False, 'lansburi': False, 'eccentr': False, 'tomlinson': False, 'defunct': False, 'magician': False, 'poppin': False, 'fantasi': False, 'chimchimchere': False, 'boast': False, 'enchant': False, 'bewitch': False, 'child': False, 'tenuous': False, 'greas': False, 'establish': False, 'didi': False, 'conn': False, 'four': False, 'maxwel': False, 'caulfield': False, 'olivia': False, 'newton': False, 'st': False, 'pattern': False, 'cousin': False, 'rydel': False, 'beauticianbr': False, 'type': False, 'adrian': False, 'zmed': False, 'label': False, 'nerd': False, 'zorro': False, 'junk': False, 'bicycl': False, 'teach': False, 'ride': False, 'leather': False, 'biker': False, 'outfit': False, 'goggl': False, 'pheiffer': False, 'gay': False, 'bar': False, 'outfittedbr': False, 'outbr': False, 'addit': False, 'arden': False, 'sid': False, 'caesar': False, 'dodi': False, 'goodman': False, 'faculti': False, 'return': False, 'originalbr': False, 'stutter': False, 'subpar': False, 'plagu': False, 'billion': False, 'profess': False, 'occup': False, 'dungeon': False, 'dragon': False, 'tm': False, 'hack': False, 'plasma': False, 'rifl': False, 'field': False, 'issu': False, 'degre': False, 'pointless': False, 'interact': False, 'winc': False, 'plainsman': False, 'cooper': False, 'bill': False, 'hickok': False, 'ideal': False, 'wayn': False, 'stewart': False, 'hero': False, 'jean': False, 'arthur': False, 'calam': False, 'nobodi': False, 'sacrific': False, 'demill': False, 'buffalo': False, 'compens': False, 'loss': False, 'civil': False, 'custer': False, 'horn': False, 'uneasi': False, 'religi': False, 'plenti': False, 'non': False, 'quinn': False, 'gun': False, 'invok': False, 'laughter': False, 'cri': False, 'hrs': False, 'dobr': False, 'dare': False, 'valuabl': False, 'eur': False, 'doyl': False, 'resurrect': False, 'joint': False, 'professor': False, 'moriarti': False, 'adventur': False, 'howeverfinanci': False, 'consider': False, 'will': False, 'hound': False, 'baskervill': False, 'memoir': False, 'onli': False, 'greater': False, 'outcri': False, 'empti': False, 'publish': False, 'readabl': False, 'solitari': False, 'cyclist': False, 'uneven': False, 'bow': False, 'increas': False, 'negat': False, 'aspect': False, 'gabl': False, 'sneer': False, 'sarcasm': False, 'ancestri': False, 'upbr': False, 'augustus': False, 'milverton': False, 'compromis': False, 'letter': True, 'blackmail': False, 'minimum': False, 'hire': False, 'negoti': False, 'regard': False, 'purchas': False, 'unwil': False, 'amount': False, 'prepar': False, 'protect': False, 'household': False, 'watson': False, 'burglar': False, 'await': False, 'inform': False, 'collater': False, 'collect': False, 'document': False, 'flee': False, 'lestrad': False, 'disgust': False, 'solvedbr': False, 'fascin': False, 'speckl': False, 'band': False, 'silver': False, 'blaze': False, 'mood': False, 'caught': False, 'bulk': False, 'interestingbr': False, 'wrote': False, 'conan': False, 'amateur': False, 'detectivecrusad': False, 'scotland': False, 'yard': False, 'bare': False, 'spat': False, 'wrong': False, 'sake': False, 'awar': False, 'behav': False, 'restraint': False, 'justifi': False, 'probe': False, 'whoever': False, 'villain': False, 'descript': False, 'teleplay': False, 'dilemma': False, 'victorianedwardian': False, 'england': False, 'exposur': False, 'extravag': False, 'reput': False, 'smear': False, 'illegitim': False, 'indiscreet': False, 'aveng': False, 'promin': False, 'nobleman': False, 'destroy': False, 'poison': False, 'bland': False, 'hardi': False, 'unexpect': False, 'unleash': False, 'unperturb': False, 'brett': False, 'hardwick': False, 'expectedbr': False, 'rumor': False, 'innuendo': False, 'imperi': False, 'leader': False, 'victori': False, 'charg': False, 'omdurman': False, 'mahdist': False, 'feather': False, 'hector': False, 'macdonald': False, 'governor': False, 'ceylon': False, 'resign': False, 'hotel': False, 'mac': False, 'command': False, 'britain': False, 'arrang': False, 'nativ': False, 'quicklyor': False, 'patrick': False, 'swayz': False}, 'neg')\n"
     ]
    }
   ],
   "source": [
    "print(featuresets[0])"
   ]
  },
  {
   "cell_type": "code",
   "execution_count": 114,
   "metadata": {},
   "outputs": [],
   "source": [
    "classifier = nltk.NaiveBayesClassifier.train(training_set)"
   ]
  },
  {
   "cell_type": "code",
   "execution_count": 115,
   "metadata": {},
   "outputs": [
    {
     "name": "stdout",
     "output_type": "stream",
     "text": [
      "Classifier accuracy percent: 84.28\n"
     ]
    }
   ],
   "source": [
    "print(\"Classifier accuracy percent:\",(nltk.classify.accuracy(classifier, testing_set))*100)"
   ]
  },
  {
   "cell_type": "code",
   "execution_count": 99,
   "metadata": {},
   "outputs": [
    {
     "name": "stdout",
     "output_type": "stream",
     "text": [
      "Most Informative Features\n",
      "                semblanc = True              neg : pos    =     25.8 : 1.0\n",
      "                 unwatch = True              neg : pos    =     25.7 : 1.0\n",
      "                    mstk = True              neg : pos    =     25.4 : 1.0\n",
      "                rediscov = True              pos : neg    =     14.3 : 1.0\n",
      "                flawless = True              pos : neg    =     11.2 : 1.0\n",
      "               pointless = True              neg : pos    =     10.8 : 1.0\n",
      "                    gedd = True              pos : neg    =     10.3 : 1.0\n",
      "                 superbl = True              pos : neg    =     10.1 : 1.0\n",
      "                    wast = True              neg : pos    =      9.3 : 1.0\n",
      "                   worst = True              neg : pos    =      9.0 : 1.0\n",
      "                awardwin = True              pos : neg    =      9.0 : 1.0\n",
      "                  demill = True              pos : neg    =      8.6 : 1.0\n",
      "                 olympia = True              pos : neg    =      8.2 : 1.0\n",
      "                   powel = True              pos : neg    =      8.0 : 1.0\n",
      "                     wtf = True              neg : pos    =      7.9 : 1.0\n"
     ]
    }
   ],
   "source": [
    "classifier.show_most_informative_features(15)"
   ]
  },
  {
   "cell_type": "code",
   "execution_count": 117,
   "metadata": {},
   "outputs": [],
   "source": [
    "from nltk.classify.scikitlearn import SklearnClassifier\n",
    "from sklearn.naive_bayes import MultinomialNB,BernoulliNB\n",
    "from sklearn.linear_model import LogisticRegression,SGDClassifier\n",
    "from sklearn.svm import SVC, LinearSVC, NuSVC"
   ]
  },
  {
   "cell_type": "markdown",
   "metadata": {},
   "source": [
    "Classifiers for an ensemble model: \n",
    "Naive Bayes (NB)\n",
    "Multinomial NB\n",
    "Bernoulli NB\n",
    "Logistic Regression\n",
    "Stochastic Gradient Descent Classifier - SGD\n",
    "Support Vector Classification - SVC\n",
    "Linear SVC\n",
    "Nu- NuSVC"
   ]
  },
  {
   "cell_type": "code",
   "execution_count": 118,
   "metadata": {},
   "outputs": [
    {
     "name": "stdout",
     "output_type": "stream",
     "text": [
      "Original Naive Bayes Algo accuracy percent: 84.28\n",
      "Most Informative Features\n",
      "                semblanc = True              neg : pos    =     25.8 : 1.0\n",
      "                 unwatch = True              neg : pos    =     25.7 : 1.0\n",
      "                    mstk = True              neg : pos    =     25.4 : 1.0\n",
      "                rediscov = True              pos : neg    =     14.3 : 1.0\n",
      "                flawless = True              pos : neg    =     11.2 : 1.0\n",
      "               pointless = True              neg : pos    =     10.8 : 1.0\n",
      "                    gedd = True              pos : neg    =     10.3 : 1.0\n",
      "                 superbl = True              pos : neg    =     10.1 : 1.0\n",
      "                    wast = True              neg : pos    =      9.3 : 1.0\n",
      "                   worst = True              neg : pos    =      9.0 : 1.0\n",
      "                awardwin = True              pos : neg    =      9.0 : 1.0\n",
      "                  demill = True              pos : neg    =      8.6 : 1.0\n",
      "                 olympia = True              pos : neg    =      8.2 : 1.0\n",
      "                   powel = True              pos : neg    =      8.0 : 1.0\n",
      "                     wtf = True              neg : pos    =      7.9 : 1.0\n",
      "MNB_classifier accuracy percent: 84.44\n",
      "BernoulliNB_classifier accuracy percent: 84.28\n",
      "LogisticRegression_classifier accuracy percent: 85.78\n"
     ]
    },
    {
     "name": "stderr",
     "output_type": "stream",
     "text": [
      "/anaconda3/lib/python3.7/site-packages/sklearn/linear_model/stochastic_gradient.py:128: FutureWarning: max_iter and tol parameters have been added in <class 'sklearn.linear_model.stochastic_gradient.SGDClassifier'> in 0.19. If both are left unset, they default to max_iter=5 and tol=None. If tol is not None, max_iter defaults to max_iter=1000. From 0.21, default max_iter will be 1000, and default tol will be 1e-3.\n",
      "  \"and default tol will be 1e-3.\" % type(self), FutureWarning)\n"
     ]
    },
    {
     "name": "stdout",
     "output_type": "stream",
     "text": [
      "SGDClassifier_classifier accuracy percent: 83.66\n",
      "SVC_classifier accuracy percent: 85.0\n",
      "LinearSVC_classifier accuracy percent: 84.68\n",
      "NuSVC_classifier accuracy percent: 86.68\n"
     ]
    }
   ],
   "source": [
    "print(\"Original Naive Bayes Algo accuracy percent:\", (nltk.classify.accuracy(classifier, testing_set))*100)\n",
    "classifier.show_most_informative_features(15)\n",
    "\n",
    "MNB_clf = SklearnClassifier(MultinomialNB())\n",
    "MNB_clf.train(training_set)\n",
    "print(\"MNB_classifier accuracy percent:\", (nltk.classify.accuracy(MNB_clf, testing_set))*100)\n",
    "\n",
    "BNB_clf = SklearnClassifier(BernoulliNB())\n",
    "BNB_clf.train(training_set)\n",
    "print(\"BernoulliNB_classifier accuracy percent:\", (nltk.classify.accuracy(BNB_clf, testing_set))*100)\n",
    "\n",
    "LogReg_clf = SklearnClassifier(LogisticRegression())\n",
    "LogReg_clf.train(training_set)\n",
    "print(\"LogisticRegression_classifier accuracy percent:\", (nltk.classify.accuracy(LogReg_clf, testing_set))*100)\n",
    "\n",
    "SGD_clf = SklearnClassifier(SGDClassifier())\n",
    "SGD_clf.train(training_set)\n",
    "print(\"SGDClassifier_classifier accuracy percent:\", (nltk.classify.accuracy(SGD_clf, testing_set))*100)\n",
    "\n",
    "SVC_clf = SklearnClassifier(SVC())\n",
    "SVC_clf.train(training_set)\n",
    "print(\"SVC_classifier accuracy percent:\", (nltk.classify.accuracy(SVC_clf, testing_set))*100)\n",
    "\n",
    "LinSVC_clf = SklearnClassifier(LinearSVC())\n",
    "LinSVC_clf.train(training_set)\n",
    "print(\"LinearSVC_classifier accuracy percent:\", (nltk.classify.accuracy(LinSVC_clf, testing_set))*100)\n",
    "\n",
    "NuSVC_clf = SklearnClassifier(NuSVC())\n",
    "NuSVC_clf.train(training_set)\n",
    "print(\"NuSVC_classifier accuracy percent:\", (nltk.classify.accuracy(NuSVC_clf, testing_set))*100)"
   ]
  },
  {
   "cell_type": "code",
   "execution_count": 140,
   "metadata": {},
   "outputs": [
    {
     "name": "stdout",
     "output_type": "stream",
     "text": [
      "Original Naive Bayes Algo accuracy percent: 80.0\n",
      "Most Informative Features\n",
      "                semblanc = True              neg : pos    =     25.8 : 1.0\n",
      "                 unwatch = True              neg : pos    =     25.7 : 1.0\n",
      "                    mstk = True              neg : pos    =     25.4 : 1.0\n",
      "                rediscov = True              pos : neg    =     14.3 : 1.0\n",
      "                flawless = True              pos : neg    =     11.2 : 1.0\n",
      "               pointless = True              neg : pos    =     10.8 : 1.0\n",
      "                    gedd = True              pos : neg    =     10.3 : 1.0\n",
      "                 superbl = True              pos : neg    =     10.1 : 1.0\n",
      "                    wast = True              neg : pos    =      9.3 : 1.0\n",
      "                   worst = True              neg : pos    =      9.0 : 1.0\n",
      "                awardwin = True              pos : neg    =      9.0 : 1.0\n",
      "                  demill = True              pos : neg    =      8.6 : 1.0\n",
      "                 olympia = True              pos : neg    =      8.2 : 1.0\n",
      "                   powel = True              pos : neg    =      8.0 : 1.0\n",
      "                     wtf = True              neg : pos    =      7.9 : 1.0\n",
      "Original Naive Bayes Algo accuracy percent: 85.0\n",
      "Most Informative Features\n",
      "                semblanc = True              neg : pos    =     25.8 : 1.0\n",
      "                 unwatch = True              neg : pos    =     25.7 : 1.0\n",
      "                    mstk = True              neg : pos    =     25.4 : 1.0\n",
      "                rediscov = True              pos : neg    =     14.3 : 1.0\n",
      "                flawless = True              pos : neg    =     11.2 : 1.0\n",
      "               pointless = True              neg : pos    =     10.8 : 1.0\n",
      "                    gedd = True              pos : neg    =     10.3 : 1.0\n",
      "                 superbl = True              pos : neg    =     10.1 : 1.0\n",
      "                    wast = True              neg : pos    =      9.3 : 1.0\n",
      "                   worst = True              neg : pos    =      9.0 : 1.0\n",
      "                awardwin = True              pos : neg    =      9.0 : 1.0\n",
      "                  demill = True              pos : neg    =      8.6 : 1.0\n",
      "                 olympia = True              pos : neg    =      8.2 : 1.0\n",
      "                   powel = True              pos : neg    =      8.0 : 1.0\n",
      "                     wtf = True              neg : pos    =      7.9 : 1.0\n"
     ]
    }
   ],
   "source": [
    "print(\"Original Naive Bayes Algo accuracy percent:\", (nltk.classify.accuracy(classifier, test_pos))*100)\n",
    "classifier.show_most_informative_features(15)\n",
    "\n",
    "print(\"Original Naive Bayes Algo accuracy percent:\", (nltk.classify.accuracy(classifier, test_neg))*100)\n",
    "classifier.show_most_informative_features(15)"
   ]
  },
  {
   "cell_type": "code",
   "execution_count": 120,
   "metadata": {},
   "outputs": [],
   "source": [
    "classifiers_dict = {'MNB': [MNB_clf, 'MNB_classifier.pickle'],\n",
    "                    'BNB': [BNB_clf, 'BNB_clf.pickle'],\n",
    "                    'LogReg': [LogReg_clf, 'LogReg_clf.pickle'],\n",
    "                    'SGD': [SGD_clf, 'SGD_clf.pickle'], \n",
    "                    'SVC': [SVC_clf, 'SVC_clf.pickle'], \n",
    "                    'LinSVC': [LinSVC_clf, 'LinSVC_clf.pickle'], \n",
    "                    'NuSVC': [NuSVC_clf, 'NuSVC_clf.pickle']}"
   ]
  },
  {
   "cell_type": "code",
   "execution_count": 16,
   "metadata": {},
   "outputs": [],
   "source": [
    "def create_pickle(classifer, file_name): \n",
    "    save_classifier = open(file_name, 'wb')\n",
    "    pickle.dump(classifier, save_classifier)\n",
    "    save_classifier.close()\n",
    "def get_clf(classifer, file_name): \n",
    "    classifier_f = open(file_name, \"rb\")\n",
    "    classifier = pickle.load(classifier_f)\n",
    "    classifier_f.close()\n",
    "    return classifier"
   ]
  },
  {
   "cell_type": "code",
   "execution_count": 123,
   "metadata": {},
   "outputs": [],
   "source": [
    "for clf, listy in classifiers_dict.items(): \n",
    "    create_pickle(listy[0], listy[1])"
   ]
  },
  {
   "cell_type": "code",
   "execution_count": 20,
   "metadata": {},
   "outputs": [],
   "source": [
    "import pickle\n",
    "classifier_f = open('MNB_classifier.pickle', \"rb\")\n",
    "MNB_clf_picked = pickle.load(classifier_f)\n",
    "classifier_f.close()"
   ]
  },
  {
   "cell_type": "code",
   "execution_count": 24,
   "metadata": {
    "scrolled": true
   },
   "outputs": [
    {
     "name": "stdout",
     "output_type": "stream",
     "text": [
      "MNB_classifier accuracy percent: 84.08\n"
     ]
    }
   ],
   "source": [
    "print(\"MNB_classifier accuracy percent:\", (nltk.classify.accuracy(MNB_clf_picked, testing_set))*100)"
   ]
  },
  {
   "cell_type": "code",
   "execution_count": 26,
   "metadata": {},
   "outputs": [],
   "source": [
    "import pickle\n",
    "classifier_f = open('BNB_clf.pickle', \"rb\")\n",
    "BNB_clf_picked = pickle.load(classifier_f)\n",
    "classifier_f.close()"
   ]
  },
  {
   "cell_type": "code",
   "execution_count": 27,
   "metadata": {},
   "outputs": [
    {
     "name": "stdout",
     "output_type": "stream",
     "text": [
      "BNB_classifier accuracy percent: 84.08\n"
     ]
    }
   ],
   "source": [
    "print(\"BNB_classifier accuracy percent:\", (nltk.classify.accuracy(BNB_clf_picked, testing_set))*100)"
   ]
  },
  {
   "cell_type": "code",
   "execution_count": 29,
   "metadata": {},
   "outputs": [],
   "source": [
    "import pickle\n",
    "classifier_f = open('LogReg_clf.pickle', \"rb\")\n",
    "LogReg_clf_picked = pickle.load(classifier_f)\n",
    "classifier_f.close()"
   ]
  },
  {
   "cell_type": "code",
   "execution_count": 30,
   "metadata": {},
   "outputs": [
    {
     "name": "stdout",
     "output_type": "stream",
     "text": [
      "BNB_classifier accuracy percent: 84.08\n"
     ]
    }
   ],
   "source": [
    "print(\"BNB_classifier accuracy percent:\", (nltk.classify.accuracy(LogReg_clf_picked, testing_set))*100)"
   ]
  },
  {
   "cell_type": "markdown",
   "metadata": {},
   "source": [
    "# EXTRA "
   ]
  },
  {
   "cell_type": "code",
   "execution_count": 30,
   "metadata": {},
   "outputs": [],
   "source": [
    "\n",
    "from nltk.corpus import movie_reviews\n",
    "\n",
    "documents = [(list(movie_reviews.words(fileid)), category)\n",
    "             for category in movie_reviews.categories()\n",
    "             for fileid in movie_reviews.fileids(category)]"
   ]
  },
  {
   "cell_type": "code",
   "execution_count": null,
   "metadata": {},
   "outputs": [],
   "source": []
  },
  {
   "cell_type": "code",
   "execution_count": 34,
   "metadata": {},
   "outputs": [],
   "source": [
    "\n",
    "random.shuffle(documents)\n",
    "\n",
    "all_words = []\n",
    "\n",
    "for w in movie_reviews.words():\n",
    "    all_words.append(w.lower())\n",
    "\n",
    "all_words2 = nltk.FreqDist(all_words)\n",
    "\n",
    "word_features = list(all_words2.keys())[:3000]\n"
   ]
  },
  {
   "cell_type": "code",
   "execution_count": 83,
   "metadata": {},
   "outputs": [
    {
     "data": {
      "text/plain": [
       "FreqDist({',': 77717, 'the': 76529, '.': 65876, 'a': 38106, 'and': 35576, 'of': 34123, 'to': 31937, \"'\": 30585, 'is': 25195, 'in': 21822, ...})"
      ]
     },
     "execution_count": 83,
     "metadata": {},
     "output_type": "execute_result"
    }
   ],
   "source": [
    "all_words2"
   ]
  },
  {
   "cell_type": "code",
   "execution_count": null,
   "metadata": {},
   "outputs": [],
   "source": [
    "# Write a list of ways that you can do feature selection when creating a model.\n",
    "# remove on of highly correlated variables \n",
    "# remove variables that are not necessarily explaining a lot about the model \n",
    "# variables that are \n",
    "# Write a list of reasons why feature selection is a necessary in the machine learning project process\n"
   ]
  },
  {
   "cell_type": "code",
   "execution_count": 102,
   "metadata": {},
   "outputs": [],
   "source": [
    "import pickle \n",
    "\n",
    "save_classifier = open('NB_clf_nltk.pickle', 'wb')\n",
    "pickle.dump(classifier, save_classifier)\n",
    "save_classifier.close()"
   ]
  },
  {
   "cell_type": "code",
   "execution_count": 104,
   "metadata": {},
   "outputs": [],
   "source": [
    "classifier_f = open(\"NB_clf_nltk.pickle\", \"rb\")\n",
    "classifier = pickle.load(classifier_f)\n",
    "classifier_f.close()"
   ]
  },
  {
   "cell_type": "code",
   "execution_count": 106,
   "metadata": {},
   "outputs": [
    {
     "name": "stdout",
     "output_type": "stream",
     "text": [
      "Classifier accuracy percent: 84.28\n"
     ]
    }
   ],
   "source": [
    "print(\"Classifier accuracy percent:\",(nltk.classify.accuracy(classifier, testing_set))*100)"
   ]
  },
  {
   "cell_type": "code",
   "execution_count": 128,
   "metadata": {},
   "outputs": [],
   "source": [
    "from nltk.classify import ClassifierI\n",
    "from statistics import mode"
   ]
  },
  {
   "cell_type": "code",
   "execution_count": 134,
   "metadata": {},
   "outputs": [],
   "source": [
    "class VoteClassifier(ClassifierI):\n",
    "    def __init__(self, *classifiers):\n",
    "        self._classifiers = classifiers\n",
    "    def classify(self, features):\n",
    "        votes = []\n",
    "        for c in self._classifiers:\n",
    "            v = c.classify(features)\n",
    "            votes.append(v)\n",
    "        return mode(votes)\n",
    "    def confidence(self, features):\n",
    "        votes = []\n",
    "        for c in self._classifiers:\n",
    "            v = c.classify(features)\n",
    "            votes.append(v)\n",
    "\n",
    "        choice_votes = votes.count(mode(votes))\n",
    "        conf = choice_votes / len(votes)\n",
    "        return conf"
   ]
  },
  {
   "cell_type": "code",
   "execution_count": null,
   "metadata": {},
   "outputs": [],
   "source": [
    "{'MNB': [MNB_clf, 'MNB_classifier.pickle'],\n",
    "                    'BNB': [BNB_clf, 'BNB_clf.pickle'],\n",
    "                    'LogReg': [LogReg_clf, 'LogReg_clf.pickle'],\n",
    "                    'SGD': [SGD_clf, 'SGD_clf.pickle'], \n",
    "                    'SVC': [SVC_clf, 'SVC_clf.pickle'], \n",
    "                    'LinSVC': [LinSVC_clf, 'LinSVC_clf.pickle'], \n",
    "                    'NuSVC': [NuSVC_clf, 'NuSVC_clf.pickle']}"
   ]
  },
  {
   "cell_type": "code",
   "execution_count": 133,
   "metadata": {},
   "outputs": [
    {
     "name": "stdout",
     "output_type": "stream",
     "text": [
      "voted_classifier accuracy percent: 86.44\n",
      "Classification: neg Confidence %: 100.0\n",
      "Classification: neg Confidence %: 100.0\n",
      "Classification: pos Confidence %: 100.0\n",
      "Classification: neg Confidence %: 100.0\n",
      "Classification: pos Confidence %: 100.0\n",
      "Classification: neg Confidence %: 100.0\n"
     ]
    }
   ],
   "source": [
    "voted_classifier = VoteClassifier(classifier,\n",
    "                                  NuSVC_clf,\n",
    "                                  LinSVC_clf,\n",
    "                                  SGD_clf,\n",
    "                                  MNB_clf,\n",
    "                                  BNB_clf,\n",
    "                                  LogReg_clf)\n",
    "\n",
    "print(\"voted_classifier accuracy percent:\", (nltk.classify.accuracy(voted_classifier, testing_set))*100)\n",
    "\n",
    "print(\"Classification:\", voted_classifier.classify(testing_set[0][0]), \"Confidence %:\",voted_classifier.confidence(testing_set[0][0])*100)\n",
    "print(\"Classification:\", voted_classifier.classify(testing_set[1][0]), \"Confidence %:\",voted_classifier.confidence(testing_set[1][0])*100)\n",
    "print(\"Classification:\", voted_classifier.classify(testing_set[2][0]), \"Confidence %:\",voted_classifier.confidence(testing_set[2][0])*100)\n",
    "print(\"Classification:\", voted_classifier.classify(testing_set[3][0]), \"Confidence %:\",voted_classifier.confidence(testing_set[3][0])*100)\n",
    "print(\"Classification:\", voted_classifier.classify(testing_set[4][0]), \"Confidence %:\",voted_classifier.confidence(testing_set[4][0])*100)\n",
    "print(\"Classification:\", voted_classifier.classify(testing_set[5][0]), \"Confidence %:\",voted_classifier.confidence(testing_set[5][0])*100)"
   ]
  },
  {
   "cell_type": "code",
   "execution_count": 136,
   "metadata": {},
   "outputs": [
    {
     "data": {
      "text/plain": [
       "'neg'"
      ]
     },
     "execution_count": 136,
     "metadata": {},
     "output_type": "execute_result"
    }
   ],
   "source": [
    "testing_set[0][1]"
   ]
  },
  {
   "cell_type": "code",
   "execution_count": null,
   "metadata": {},
   "outputs": [],
   "source": []
  },
  {
   "cell_type": "code",
   "execution_count": 38,
   "metadata": {},
   "outputs": [],
   "source": [
    "listy = []\n",
    "for rev, tag in featuresets: \n",
    "    rev['category'] = tag\n",
    "    listy.append(rev)\n",
    "    "
   ]
  },
  {
   "cell_type": "code",
   "execution_count": 62,
   "metadata": {},
   "outputs": [],
   "source": [
    "df = pd.DataFrame.from_dict(listy)\n",
    "df = df.astype('category')"
   ]
  },
  {
   "cell_type": "code",
   "execution_count": 73,
   "metadata": {},
   "outputs": [],
   "source": [
    "y = df['category']\n",
    "df = df.drop(['category'],  axis=1)"
   ]
  },
  {
   "cell_type": "code",
   "execution_count": 89,
   "metadata": {},
   "outputs": [],
   "source": [
    "X = pd.get_dummies(df, drop_first=True)"
   ]
  },
  {
   "cell_type": "code",
   "execution_count": null,
   "metadata": {},
   "outputs": [],
   "source": []
  },
  {
   "cell_type": "code",
   "execution_count": 90,
   "metadata": {},
   "outputs": [],
   "source": [
    "from sklearn.model_selection import train_test_split\n",
    "\n",
    "\n",
    "X_train, X_test, y_train, y_test = train_test_split(X, y)"
   ]
  }
 ],
 "metadata": {
  "kernelspec": {
   "display_name": "Python 3",
   "language": "python",
   "name": "python3"
  },
  "language_info": {
   "codemirror_mode": {
    "name": "ipython",
    "version": 3
   },
   "file_extension": ".py",
   "mimetype": "text/x-python",
   "name": "python",
   "nbconvert_exporter": "python",
   "pygments_lexer": "ipython3",
   "version": "3.7.2"
  }
 },
 "nbformat": 4,
 "nbformat_minor": 2
}
