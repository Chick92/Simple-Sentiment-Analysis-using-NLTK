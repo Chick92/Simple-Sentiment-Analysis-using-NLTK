{
 "cells": [
  {
   "cell_type": "code",
   "execution_count": 1,
   "metadata": {},
   "outputs": [],
   "source": [
    "import os\n",
    "import nltk\n",
    "import sklearn\n",
    "import random"
   ]
  },
  {
   "cell_type": "code",
   "execution_count": 2,
   "metadata": {},
   "outputs": [],
   "source": [
    "files_pos = os.listdir('/Users/samiramunir/Documents/Flatiron_2018/Blogs /Blog 4/aclImdb/train/pos')\n",
    "files_pos = [open('train/pos/'+f, 'r').read() for f in files_pos]\n",
    "files_neg = os.listdir('/Users/samiramunir/Documents/Flatiron_2018/Blogs /Blog 4/aclImdb/train/neg')\n",
    "files_neg = [open('train/neg/'+f, 'r').read() for f in files_neg]\n"
   ]
  },
  {
   "cell_type": "code",
   "execution_count": 3,
   "metadata": {},
   "outputs": [
    {
     "data": {
      "text/plain": [
       "'pos'"
      ]
     },
     "execution_count": 3,
     "metadata": {},
     "output_type": "execute_result"
    }
   ],
   "source": []
  },
  {
   "cell_type": "code",
   "execution_count": 29,
   "metadata": {},
   "outputs": [],
   "source": [
    "from nltk import word_tokenize, PorterStemmer, SnowballStemmer\n",
    "from nltk.stem import *\n",
    "import re\n",
    "\n",
    "def remove_punctuation_digits(sentence): \n",
    "    sentence = re.sub(r'[^(a-zA-Z)\\s]','', sentence)\n",
    "    return sentence \n",
    "\n",
    "\n",
    "from nltk.corpus import stopwords\n",
    "stop_words = list(set(stopwords.words('english')))\n",
    "def remove_stopword(sentence):\n",
    "    return [w for w in sentence if not w in stop_words]\n",
    "\n",
    "stemmer = SnowballStemmer(\"english\")\n",
    "def clean_reviews(list_rev): \n",
    "    listy = []\n",
    "    for rev in list_rev: \n",
    "        cleaned_review = re.sub(r'[^(a-zA-Z)\\s]','', rev)\n",
    "        tokenized = word_tokenize(cleaned_review)\n",
    "        stopped = remove_stopword(tokenized)\n",
    "        stemmed = [stemmer.stem(w) for w in stopped]\n",
    "        listy.append(stemmed)\n",
    "    return listy\n",
    "        \n",
    "\n",
    "def find_features(document):\n",
    "    words = set(document)\n",
    "    features = {}\n",
    "    for w in word_features:\n",
    "        features[w] = (w in words)\n",
    "\n",
    "    return features\n",
    "def make_tuple(document, sent): \n",
    "    listy = []\n",
    "    for review in document: \n",
    "        listy.append((review, sent))\n",
    "    return listy"
   ]
  },
  {
   "cell_type": "code",
   "execution_count": 30,
   "metadata": {},
   "outputs": [],
   "source": [
    "cleaned_pos = clean_reviews(files_pos)\n",
    "cleaned_neg = clean_reviews(files_neg)\n",
    "cleaned_all = cleaned_pos+cleaned_neg\n",
    "random.shuffle(cleaned_all)"
   ]
  },
  {
   "cell_type": "code",
   "execution_count": 32,
   "metadata": {},
   "outputs": [],
   "source": [
    "tagged_pos = make_tuple(cleaned_pos, 'pos')\n",
    "tagged_neg = make_tuple(cleaned_neg, 'neg')\n",
    "tagged_all = tagged_pos + tagged_neg\n",
    "random.shuffle(tagged_all)"
   ]
  },
  {
   "cell_type": "code",
   "execution_count": null,
   "metadata": {},
   "outputs": [],
   "source": [
    "tagged_all2 = "
   ]
  },
  {
   "cell_type": "code",
   "execution_count": 33,
   "metadata": {},
   "outputs": [],
   "source": [
    "all_words = [w.lower() for review in cleaned_all for w in review]"
   ]
  },
  {
   "cell_type": "code",
   "execution_count": 34,
   "metadata": {},
   "outputs": [
    {
     "name": "stdout",
     "output_type": "stream",
     "text": [
      "12500 12500\n"
     ]
    }
   ],
   "source": [
    "print(len(cleaned_pos), len(cleaned_neg))"
   ]
  },
  {
   "cell_type": "code",
   "execution_count": 137,
   "metadata": {},
   "outputs": [],
   "source": [
    "featuresets_pos = [(find_features(rev), category) for (rev, category) in tagged_pos]\n",
    "featuresets_neg = [(find_features(rev), category) for (rev, category) in tagged_neg]"
   ]
  },
  {
   "cell_type": "code",
   "execution_count": 139,
   "metadata": {},
   "outputs": [],
   "source": [
    "test_pos = featuresets_pos[:100]\n",
    "test_neg = featuresets_neg[:100]"
   ]
  },
  {
   "cell_type": "code",
   "execution_count": 35,
   "metadata": {},
   "outputs": [],
   "source": [
    "\n",
    "all_words2 = nltk.FreqDist(all_words)\n",
    "\n",
    "word_features = list(all_words2.keys())[:3000]\n"
   ]
  },
  {
   "cell_type": "code",
   "execution_count": 111,
   "metadata": {},
   "outputs": [],
   "source": [
    "featuresets = [(find_features(rev), category) for (rev, category) in tagged_all ]\n",
    "training_set = featuresets[:20000]\n",
    "testing_set = featuresets[20000:]"
   ]
  },
  {
   "cell_type": "code",
   "execution_count": 146,
   "metadata": {},
   "outputs": [
    {
     "name": "stdout",
     "output_type": "stream",
     "text": [
      "({'film': False, 'chocolat': False, 'beau': False, 'travail': False, 'other': False, 'propel': False, 'french': False, 'director': False, 'clair': False, 'deni': False, 'top': False, 'echelon': False, 'world': False, 'uniqu': False, 'accomplish': False, 'filmmak': False, 'the': True, 'intrud': False, '(': False, 'lintrus': False, ')': False, 'add': False, 'depth': False, 'portfolio': False, 'a': False, 'cinemat': False, 'poem': False, 'convey': False, 'mood': False, 'abid': False, 'loneli': False, 'loss': False, 'provid': False, 'glimps': False, 'psych': False, 'man': False, 'deterior': False, 'physic': False, 'mental': False, 'travel': False, 'various': False, 'part': False, 'globe': False, 'seek': False, 'redempt': False, 'peac': False, 'find': False, 'hard': False, 'come': False, 'loos': False, 'base': False, 'jeanluc': False, 'nanci': False, 'memoir': False, 'heart': False, 'transplant': False, 'unrel': False, 'opaqu': False, 'even': False, 'two': False, 'view': False, 'difficult': False, 'describ': False, 'subject': False, 'impressionist': False, 'termsbr': False, 'br': False, 'loui': False, 'trebor': False, 'michael': False, 'subor': False, 'seventi': False, 'like': False, 'die': False, 'condit': False, 'professor': False, 'ingmar': False, 'bergman': False, 'wild': False, 'strawberri': False, 'attempt': False, 'term': False, 'mistak': False, 'life': True, 'time': True, 'it': True, 'clear': False, 'rug': False, 'wealthi': False, 'seem': False, 'emot': False, 'drain': False, 'look': False, 'face': True, 'one': False, 'quiet': False, 'resign': False, 'though': False, 'see': True, 'episod': False, 'violenc': False, 'get': True, 'bed': False, 'middl': False, 'night': True, 'kill': False, 'sinist': False, 'sens': False, 'he': False, 'might': False, 'intellig': False, 'offic': False, 'foreign': False, 'agent': False, 'hit': False, 'manbr': False, 'whatev': False, 'case': False, 'appar': False, 'kind': False, 'surveil': False, 'act': False, 'involv': False, 'crimin': False, 'wrongdo': False, 'abl': False, 'consequ': False, 'facial': False, 'closeup': False, 'throughout': False, 'movi': True, 'creat': False, 'strong': False, 'isol': False, 'live': False, 'dog': False, 'cabin': False, 'jura': False, 'mountain': False, 'near': False, 'frenchswiss': False, 'border': False, 'estrang': False, 'son': False, 'sidney': False, 'gregoir': False, 'collin': False, 'long': True, 'neglect': False, 'nearbi': False, 'wife': False, 'antoinett': False, 'florenc': False, 'loiretcaill': False, 'children': False, 'in': False, 'tell': False, 'scene': False, 'meet': False, 'father': False, 'street': False, 'call': False, 'lunat': False, 'prevent': False, 'take': False, 'moneybr': False, 'when': False, 'open': False, 'swiss': False, 'guard': True, 'board': False, 'van': False, 'train': True, 'sniff': False, 'contraband': False, 'home': True, 'greet': False, 'husband': False, 'ask': False, 'tongueincheek': False, 'anyth': False, 'declar': False, 'three': False, 'individu': False, 'peopl': False, 'circumst': False, 'rest': False, 'may': False, 'exist': False, 'imagin': False, 'women': False, 'first': False, 'half': False, 'hour': False, 'pharmacist': False, 'bambou': False, 'prepar': False, 'medic': False, 'neighbor': False, 'batric': False, 'dall': False, 'breeder': False, 'refus': False, 'care': False, 'goe': False, 'away': False, 'trip': False, 'crazi': False, 'young': False, 'russian': False, 'organ': False, 'dealer': False, 'katia': False, 'golubeva': False, 'want': True, 'heartbr': False, 'relentless': False, 'stalk': False, 'mind': False, 'last': False, 'section': False, 'south': False, 'korea': False, 'search': False, 'tahiti': False, 'deliv': False, 'gift': False, 'differ': False, 'seen': False, 'mani': False, 'year': False, 'perhap': False, 'never': False, 'his': False, 'howev': False, 'appear': False, 'metaphor': False, 'without': True, 'whose': False, 'fascin': False, 'ultim': False, 'directionless': False, 'littl': False, 'real': False, 'empathi': False, 'contain': False, 'haunt': False, 'guitar': False, 'soundtrack': False, 'stuart': False, 'stapl': False, 'band': False, 'tinderstick': False, 'reminisc': False, 'riff': False, 'jim': False, 'jarmusch': False, 'dead': False, 'gorgeous': False, 'cinematographi': False, 'regular': False, 'agn': False, 'godardbr': False, 'godard': False, 'memor': False, 'imag': False, 'regret': False, 'beat': False, 'alon': False, 'snow': False, 'infant': False, 'sling': False, 'good': True, 'minut': False, 'babi': False, 'express': False, 'gradual': False, 'turn': False, 'moros': False, 'smile': False, 'color': False, 'streamer': False, 'blow': False, 'newli': False, 'christen': False, 'ship': False, 'massag': False, 'dark': False, 'room': False, 'mysteri': False, 'korean': False, 'masseus': False, 'vast': False, 'expans': False, 'ocean': False, 'bob': False, 'deck': False, 'while': False, 'frustrat': False, 'ellipt': False, 'natur': False, 'forc': False, 'us': True, 'respond': False, 'experi': False, 'understand': False, 'screen': False, 'person': False, 'level': False, 'if': False, 'theme': False, 'hint': False, 'found': False, 'reveal': False, 'piecem': False, 'worst': False, 'enemi': False, 'hide': False, 'shadow': False, 'i': True, 'saw': False, 'ago': False, 'pbs': False, 'watch': True, 'so': True, 'to': False, 'small': False, 'famili': False, 'struggl': False, 'winter': False, 'rend': False, 'no': False, 'court': False, 'fate': False, 'thrown': False, 'togeth': False, 'put': False, 'shoulder': False, 'grindston': False, 'make': False, 'work': False, 'this': False, 'woman': False, 'actual': False, 'diari': False, 'read': False, 'later': False, 'she': False, 'said': False, 'parent': False, 'bother': False, 'sister': False, 'farm': False, 'feed': False, 'learn': False, 'mow': False, 'ladylik': False, 'afraid': False, 'princ': False, 'charm': False, 'would': True, 'sunbrown': False, 'callous': False, 'hand': False, 'happi': False, 'new': False, 'knew': False, 'both': False, 'widow': False, 'build': False, 'sad': False, 'of': False, 'cours': False, 'today': False, 'sure': False, 'fine': False, 'that': False, 'tragedi': False, 'extra': False, 'cri': False, 'but': False, 'went': True, 'success': False, 'pull': False, 'calf': False, 'spring': False, 'way': False, 'boy': False, 'well': False, 'main': False, 'reason': False, 'tune': False, 'done': False, 'trey': False, 'parker': False, 'matt': False, 'stone': False, 'park': False, 'fame': False, 'soon': False, 'start': False, 'laugh': False, 'erupt': False, 'belli': False, 'from': False, 'subtl': False, 'gestur': False, 'toward': False, 'joke': False, 'blatant': False, 'toilet': False, 'humour': False, 'along': False, 'constant': False, 'relianc': False, 'witti': False, 'innuendo': False, 'could': True, 'ruin': False, 'event': False, 'sternest': False, 'poker': False, 'let': False, 'underwear': False, 'some': False, 'funniest': False, 'blink': False, 'youll': False, 'miss': False, 'ever': False, 'portray': False, 'hollywood': False, 'critiqu': False, 'bargainbr': False, 'show': False, 'adept': False, 'write': False, 'hes': False, 'shabbi': False, 'old': False, 'game': False, 'either': False, 'surpris': False, 'amount': False, 'absorb': False, 'im': False, 'quit': False, 'worri': False, 'avail': False, 'buy': False, 'internet': False, 'uk': False, 'sort': False, 'boysbr': False, 'continu': False, 'friend': False, 'annoy': False, 'point': False, 'funni': False, 'bit': False, 'occasion': False, 'snort': False, 'lager': False, 'all': False, 'excel': False, 'fan': False, 'unnecessari': False, 'comedi': False, 'silli': False, 'rude': False, 'thing': False, 'steer': False, 'inclus': False, 'jenni': False, 'mccarthi': False, 'jasmin': False, 'bleeth': False, 'gurgl': False, 'past': False, 'prejudic': False, 'action': False, 'noth': False, 'took': False, 'place': False, 'high': False, 'nice': False, 'sceneri': False, 'group': False, 'mercenari': False, 'lead': False, 'fli': False, 'kick': False, 'butt': False, 'rambo': False, 'rocki': False, 'pat': False, 'effect': True, 'right': False, 'cring': False, 'horror': False, 'not': False, 'bad': False, 'pictur': False, 'ol': False, 'elect': False, 'chines': False, 'mob': False, 'triad': False, 'everi': False, 'held': False, 'decid': False, 'leader': False, 'toss': False, 'big': False, 'd': False, 'toni': False, 'leung': False, 'ka': False, 'fai': False, 'know': False, 'lok': False, 'simon': False, 'yam': False, 'judg': False, 'full': False, 'contact': False, 'win': False, 'accept': False, 'choic': False, 'length': False, 'secur': False, 'recognit': False, 'unlik': False, 'asian': False, 'featur': False, 'gangster': False, 'bloodi': False, 'moment': False, 'necessari': False, 'goodfella': False, 'basic': False, 'realli': False, 'drama': False, 'there': False, 'lot': False, 'charact': False, 'keep': False, 'track': False, 'think': False, 'play': False, 'yearold': False, 'baton': False, 'symbol': False, 'power': False, 'mention': False, 'chang': False, 'sever': False, 'settl': False, 'and': False, 'end': False, 'mark': False, 'still': False, 'coupl': False, 'wait': False, 'favorit': False, 'anchor': False, 'picturebr': False, 'award': False, 'winner': False, 'hong': False, 'kong': False, 'best': False, 'actor': False, 'johnni': False, 'heroic': False, 'trio': False, 'screenplay': False, 'also': False, 'nomin': False, 'edit': False, 'score': False, 'love': False, 'perform': False, 'includ': False, 'somewhat': False, 'fiction': False, 'biograph': False, 'portrait': False, 'abraham': False, 'lincoln': False, 'earli': False, 'john': False, 'ford': False, 'concentr': False, 'primarili': False, 'trial': False, 'lawyer': False, 'defend': False, 'brother': False, 'accus': False, 'murderbr': False, 'offer': False, 'interest': False, 'import': False, 'american': False, 'figur': False, 'made': False, 'incomplet': False, 'great': False, 'presid': False, 'debat': False, 'stephen': False, 'dougla': False, 'obvious': False, 'intent': False, 'develop': False, 'attribut': False, 'becom': False, 'result': False, 'admir': False, 'wasnt': False, 'satisfi': False, 'greater': False, 'scopebr': False, 'role': False, 'henri': False, 'fonda': False, 'display': False, 'strength': False, 'gang': False, 'manner': False, 'affect': False, 'fair': False, 'present': False, 'particular': False, 'combin': False, 'makeup': False, 'costum': False, 'overtbr': False, 'support': False, 'cast': False, 'solid': False, 'sometim': False, 'refer': False, 'stock': False, 'compani': False, 'ward': False, 'bond': False, 'prolif': False, 'afi': False, 'origin': False, 'revis': False, 'list': False, 'nomineesbr': False, 'inspir': False, 'similar': False, 'mockingbird': False, 'better': False, 'bore': True, 'nonsens': False, 'plot': False, 'irrelev': False, 'timebr': False, 'wors': False, 'camera': False, 'angl': False, 'feel': False, 'sick': False, 'use': False, 'incident': False, 'music': False, 'terribl': False, 'drown': False, 'dialogu': False, 'mayb': False, 'shot': False, 'san': False, 'francisco': False, 'stolen': False, 'straight': False, 'citi': False, 'tourist': False, 'promot': False, 'videobr': False, 'oh': False, 'obligatori': False, 'sex': False, 'light': False, 'next': False, 'pleas': False, 'yike': False, 'weak': False, 'weaker': False, 'couldnt': False, 'christop': False, 'walken': False, 'oop': False, 'must': False, 'need': True, 'money': True, 'suppos': False, 'irish': False, 'noon': False, 'accent': False, 'desper': False, 'tri': False, 'someth': False, 'cant': False, 'except': False, 'job': False, 'wooden': False, 'discoveri': False, 'dont': False, 'japanes': False, 'obsess': False, 'calligraphi': False, 'skinbr': False, 'absolut': False, 'bizarr': False, 'fail': False, 'sensual': False, 'erot': False, 'underton': False, 'ancient': False, 'art': False, 'form': False, 'fetishist': False, 'pornographi': False, 'addit': False, 'certain': False, 'airport': False, 'poor': False, 'nois': False, 'pollut': False, 'whole': False, 'pillow': False, 'book': False, 'insult': False, 'cultur': False, 'environmentbr': False, 'pervert': False, 'yet': False, 'serious': False, 'stay': False, 'an': False, 'ok': True, 'down': False, 'syndrom': False, 'mother': False, 'twin': False, 'rais': False, 'give': False, 'kid': False, 'mom': False, 'agre': False, 'broken': False, 'grandpar': False, 'lose': False, 'say': False, 'daughter': False, 'familiar': False, 'unintent': False, 'bought': False, 'video': False, 'rather': False, 'late': False, 'collect': False, 'probabl': False, 'save': False, 'earlier': False, 'invari': False, 'supersed': False, 'els': False, 'cosmos': False, 'moon': False, 'cher': False, 'olympia': False, 'deserv': False, 'flawless': False, 'ensembl': False, 'superb': False, 'what': False, 'you': False, 'stori': True, 'melvill': False, 'unfilm': False, 'isnt': False, 'credibl': False, 'move': False, 'th': False, 'centuri': False, 'outrag': False, 'possibl': False, 'england': False, 'period': False, 'piec': False, 'narratorth': False, 'proprietortel': False, 'flashback': False, 'go': True, 'back': False, 'somewher': False, 'around': False, 'strang': False, 'disobedi': False, 'worker': False, 'discard': False, 'thought': False, 'explet': False, 'delet': False, 'break': False, 'behavior': False, 'didnt': True, 'entir': False, 'travestyi': False, 'stop': False, 'set': False, 'streetcar': False, 'name': False, 'desir': False, 'elizabethan': False, 'did': False, 'franci': False, 'coppola': False, 'brain': False, 'aneurysm': False, 'direct': False, 'apocalyps': False, 'now': False, 'incap': False, 'wonder': False, 'godfath': False, 'convers': False, 'flabbi': False, 'kathleen': False, 'turner': False, 'star': False, 'vehicl': False, 'redo': False, 'adolesc': False, 'adult': False, 'taught': False, 'trooper': False, 'anyonebr': False, 'doesnt': False, 'style': True, 'given': False, 'expect': False, 'thatbr': False, 'grade': False, 'c': False, 'listen': False, 'mislead': False, 'titl': False, 'werewolf': False, 'european': False, 'known': False, 'emphasi': False, 'nuditi': False, 'scare': False, 'much': True, 'sleazi': False, 'cop': False, 'brutal': False, 'partner': False, 'fun': False, 'hundr': False, 'monoton': False, 'quick': False, 'shes': False, 'schizo': False, 'chick': False, 'ancestor': False, 'hang': False, 'lycanthropi': False, 'tone': False, 'ten': False, 'legitim': False, 'supernatur': False, 'trash': False, 'classic': False, 'studi': False, 'femal': False, 'repeat': False, 'abus': False, 'tortur': False, 'reveng': False, 'thriller': False, 'at': False, 'insist': False, 'true': False, 'yeah': False, 'rightbr': False, 'entertain': False, 'aspect': False, 'product': False, 'looker': False, 'gore': False, 'nude': False, 'dub': False, 'dialog': False, 'pretti': False, 'hilari': False, 'camp': False, 'fashion': False, 'especi': False, 'swing': False, 'doctor': False, 'drink': False, 'unfortun': False, 'irrit': False, 'fast': False, 'shame': False, 'descript': False, 'felt': False, 'potenti': False, 'far': False, 'overlong': False, 'slow': False, 'pointless': False, 'standard': False, 'exploit': False, 'genr': False, 'dri': False, 'eye': False, 'amongst': False, 'audienc': False, 'yesterday': False, 'afternoon': False, 'left': False, 'cinema': True, 'gem': False, 'soldout': False, 'hous': False, 'hamburg': False, 'festiv': False, 'tear': False, 'shed': False, 'laughter': False, 'everyon': False, 'lover': False, 'cinmabr': False, 'alain': False, 'chabat': False, 'terrif': False, 'clown': False, 'situat': False, 'complet': False, 'exact': False, 'equal': False, 'charlott': False, 'gainsbourg': False, 'detail': False, 'scriptwis': False, 'apart': False, 'moan': False, 'rain': False, 'outsid': False, 'wish': False, 'franc': False, 'releas': False, 'germani': False, 'distributor': False, 'countri': False, 'least': False, 'dvd': False, 'subtitl': False, 'hello': False, 'australia': False, 'purchas': False, 'bluray': False, 'promis': False, 'visual': False, 'baraka': False, 'wide': False, 'captur': False, 'passag': False, 'ident': False, 'traffic': False, 'wherea': False, 'told': False, 'juxtapos': False, 'manmad': False, 'environ': False, 'spiritu': False, 'engross': False, 'jump': False, 'encompass': False, 'mediocr': False, 'poof': False, 'finish': False, 'histori': False, 'egypt': False, 'landscap': False, 'arizona': False, 'check': False, 'folk': False, 'horribl': False, 'rent': False, 'asham': False, 'fantast': False, 'documentari': False, 'geographi': False, 'iraq': False, 'cecil': False, 'b': False, 'demill': False, 'note': False, 'command': False, 'merian': False, 'cooper': False, 'photograph': False, 'cinerama': False, 'idea': True, 'hatch': False, 'remark': False, 'werner': False, 'herzog': False, 'treasur': False, 'heartbreak': False, 'tale': False, 'compliment': False, 'land': False, 'human': False, 'capac': False, 'endur': False, 'evid': False, 'fact': False, 'paul': False, 'verhoeven': False, 'instinct': False, 'showgirl': False, 'de': False, 'vierd': False, 'mesmer': False, 'mindblow': False, 'plausibl': False, 'intens': False, 'jeroen': False, 'krabb': False, 'rene': False, 'soutendijk': False, 'thom': False, 'hoffman': False, 'tame': False, 'nightmar': False, 'overdon': False, 'girl': False, 'snobbi': False, 'interven': False, 'lost': False, 'etc': False, 'throw': False, 'fit': False, 'attract': False, 'male': False, 'crush': False, 'heroin': False, 'plus': False, 'singlepar': False, 'troubl': False, 'predict': False, 'practic': False, 'recit': False, 'itbr': False, 'second': False, 'hate': False, 'diss': False, 'they': False, 'send': False, 'messag': False, 'uptight': False, 'closemind': False, 'recal': False, 'quot': False, 'rememb': False, 'holli': False, 'whi': False, 'uptightso': False, 'label': False, 'waybr': False, 'third': False, 'ive': False, 'dozen': False, 'britney': False, 'spear': False, 'allbr': False, 'actress': False, 'whether': False, 'sing': False, 'voic': False, 'amaz': False, 'belt': False, 'oversupport': False, 'just': False, 'weight': False, 'anyway': False, 'youth': False, 'innoc': False, 'stand': False, 'by': False, 'me': False, 'gooni': False, 'jake': False, 'closet': False, 'illustr': False, 'beauti': False, 'simpl': False, 'often': False, 'overlook': False, 'remind': False, 'magic': False, 'perceiv': False, 'compass': False, 'anyon': False, 'whos': False, 'childhood': False, 'relat': False, 'fall': False, 'fort': False, 'wine': False, 'option': False, 'boast': False, 'general': False, 'reliabl': False, 'val': False, 'kilmer': False, 'lisa': False, 'kudrow': False, 'wonderland': False, 'yield': False, 'bare': False, 'brush': False, 'surfac': False, 'incid': False, 'happen': False, 'juli': False, 'motion': False, 'holm': False, 'kate': False, 'bosworth': False, 'hope': False, 'miscast': False, 'holmess': False, 'underag': False, 'girlfriend': False, 'respect': False, 'imposs': False, 'dimens': False, 'carri': False, 'fisher': False, 'ted': False, 'levin': False, 'franki': False, 'g': False, 'mc': False, 'gainey': False, 'dylan': False, 'mcdermott': False, 'cameo': False, 'pari': False, 'hilton': False, 'avoid': False, 'remak': False, 'inher': False, 'neil': False, 'materi': False, 'levelbr': False, 'chemistri': False, 'goldi': False, 'hawn': False, 'steve': False, 'martin': False, 'housesitt': False, 'nonexist': False, 'effort': False, 'remad': False, 'mcqueen': False, 'mcgraw': False, 'almost': False, 'outstand': False, 'baldwin': False, 'inadequ': False, 'passion': False, 'playalso': False, 'getaway': False, 'despit': False, 'imprison': False, 'mexico': False, 'storybr': False, 'choos': False, 'depp': False, 'brad': False, 'pitt': False, 'frank': False, 'loesser': False, 'masterpiec': False, 'amus': False, 'lyric': False, 'compet': False, 'construct': False, 'adapt': False, 'damon': False, 'runyon': False, 'seamless': False, 'number': False, 'flow': False, 'storylin': False, 'abe': False, 'burrow': False, 'contribut': False, 'kidd': False, 'choreograph': False, 'joseph': False, 'wright': False, 'sentenc': False, 'nathan': False, 'detroit': False, 'sinatra': False, 'cash': False, 'financ': False, 'perman': False, 'float': False, 'crap': False, 'chicago': False, 'boss': False, 'bet': False, 'oddsplay': False, 'sky': False, 'masterson': False, 'wellpres': False, 'marlon': False, 'brando': False, 'salvat': False, 'armi': False, 'havana': False, 'mission': False, 'gambler': False, 'riffraff': False, 'attend': False, 'servic': False, 'everybodi': False, 'ladi': False, 'impervi': False, 'charmsa': False, 'lie': False, 'marri': False, 'hi': False, 'longsuff': False, 'fianc': False, 'vivian': False, 'blain': False, 'stubbi': False, 'kay': False, 'silver': False, 'robert': False, 'keith': False, 'bs': False, 'pulley': False, 'mobster': False, 'sheldon': False, 'leonard': False, 'regi': False, 'toomey': False, 'mari': False, 'alan': False, 'kokanson': False, 'kathryn': False, 'givney': False, 'veda': False, 'ann': False, 'borg': False, 'jean': False, 'simmon': False, 'tepid': False, 'sarah': False, 'brown': False, 'famous': False, 'awardwin': False, 'broadway': False, 'smash': False, 'fugu': False, 'for': False, 'tinhorn': False, 'guy': False, 'doll': False, 'luck': False, 'be': False, 'ill': False, 'cold': False, 'oldest': False, 'establish': False, 'permnanet': False, 'york': False, 'l': False, 'mankiewicz': False, 'cleopatra': False, 'letter': False, 'wive': False, 'proceed': False, 'kept': False, 'huge': False, 'vari': False, 'challeng': False, 'brawl': False, 'preced': False, 'song': False, 'pet': False, 'poppa': False, 'club': False, 'uneven': False, 'wrong': False, 'underplay': False, 'tootheatr': False, 'sell': False, 'profession': False, 'styliz': False, 'close': False, 'triumph': False, 'amiabl': False, 'ringmast': False, 'abli': False, 'justifi': False, 'instanc': False, 'delight': False, 'brillianc': False, 'poignant': False, 'unusu': False, 'luzhin': False, 'defenc': False, 'chart': False, 'eccentr': False, 'genius': False, 'characterbr': False, 'turturro': False, 'finest': False, 'date': False, 'thank': False, 'ralph': False, 'fienn': False, 'murder': False, 'emili': False, 'watson': False, 'wealth': False, 'background': False, 'stage': False, 'reach': False, 'chess': False, 'master': False, 'beautypag': False, 'sexual': False, 'bring': False, 'selfawar': False, 'alluringbr': False, 'chanc': False, 'natalia': False, 'casual': False, 'fallen': False, 'hole': False, 'cloth': False, 'special': False, 'craft': False, 'realiz': False, 'aspir': False, 'affair': False, 'subt': False, 'liken': False, 'danc': False, 'learnt': False, 'encourag': False, 'bold': False, 'brilliant': False, 'enabl': False, 'relax': False, 'suffici': False, 'greatest': False, 'achiev': False, 'deepest': False, 'fulfil': False, 'intellectu': False, 'or': False, 'led': False, 'believ': True, 'within': False, 'frame': False, 'liber': False, 'someon': False, 'groom': False, 'stereotyp': False, 'italian': False, 'stun': False, 'complex': False, 'skill': False, 'unfold': False, 'moviego': False, 'access': False, 'enough': False, 'popular': False, 'mainstream': False, 'mere': False, 'photogen': False, 'backdrop': False, 'although': False, 'treat': False, 'convinc': False, 'chessplay': False, 'height': False, 'author': False, 'final': False, 'denouement': False, 'nevertheless': False, 'uplift': False, 'violencebr': False, 'anoth': False, 'eruptsbr': False, 'shock': False, 'fight': False, 'my': False, 'reaction': False, 'here': False, 'semblanc': False, 'switch': False, 'endbr': False, 'maker': False, 'miser': False, 'shoe': False, 'mail': False, 'danish': False, 'sonja': False, 'richter': False, 'steal': False, 'nose': False, 'feat': False, 'consid': False, 'surround': False, 'herbr': False, 'anna': False, 'outofwork': False, 'independentmind': False, 'neurot': False, 'suicid': False, 'wheelchairbound': False, 'mute': False, 'age': False, 'walentin': False, 'frit': False, 'helmuth': False, 'short': False, 'spoiler': False, 'alertbr': False, 'confront': False, 'whimsic': False, 'mischiev': False, 'batter': False, 'devil': False, 'selfimpos': False, 'death': False, 'sentencebr': False, 'writerdirectoractor': False, 'eric': False, 'clausen': False, 'difficulti': False, 'ponder': False, 'businessman': False, 'jorgen': False, 'sag': False, 'euthanasia': False, 'valu': False, 'irrepress': False, 'alter': False, 'recommend': False, 'worth': False, 'price': False, 'admiss': False, 'chill': False, 'impress': False, 'most': False, 'spi': False, 'war': False, 'fill': False, 'slick': False, 'talk': False, 'brit': False, 'mighti': False, 'battl': False, 'posit': False, 'pose': False, 'evil': False, 'forget': False, 'campel': False, 'hero': False, 'stanc': False, 'remain': False, 'govern': False, 'secret': False, 'america': False, 'nazi': False, 'hater': False, 'conflict': False, 'intern': False, 'extern': False, 'nolt': False, 'sinc': False, 'lake': False, 'monster': False, 'dug': False, 'aw': False, 'type': True, 'local': False, 'channel': False, 'morgus': False, 'circuit': False, 'immedi': False, 'spot': False, 'squad': False, 'gremlin': False, 'opinion': False, 'justic': False, 'moviebr': False, 'pretend': False, 'aim': False, 'revolution': False, 'industri': False, 'garner': False, 'critic': False, 'acclaim': False, 'regard': False, 'enjoy': False, 'fullest': False, 'suggest': False, 'criticalminded': False, 'wont': False, 'with': False, 'low': False, 'simpli': False, 'yes': False, 'underr': False, 'chow': False, 'flick': False, 'kung': False, 'fu': False, 'hustl': False, 'wouldv': False, 'rate': False, 'tight': False, 'epic': False, 'choke': False, 'placesbr': False, 'alert': False, 'unreal': False, 'basketbal': False, 'sport': False, 'alreadi': False, 'your': False, 'ahead': False, 'pulp': False, 'pile': False, 'dump': False, 'dunk': False, 'previous': False, 'exampl': False, 'chowish': False, 'tenbr': False, 'brainer': False, 'tranc': False, 'heck': False, 'protocol': False, 'walmart': False, 'mild': False, 'stride': False, 'parti': False, 'bar': False, 'purposebr': False, 'then': False, 'preachi': False, 'tast': False, 'concern': False, 'ad': False, 'stupid': False, 'teach': False, 'lesson': False, 'written': False, 'burn': False, 'especiallybr': False, 'glad': False, 'possess': False, 'paid': False, 'thirdseason': False, 'entri': False, 'is': False, 'truth': False, 'nonetheless': False, 'key': False, 'element': False, 'spock': False, 'alien': False, 'black': False, 'box': False, 'horrend': False, 'drive': False, 'insan': False, 'incred': False, 'premis': False, 'visag': False, 'approxim': False, 'daunt': False, 'buildup': False, 'trek': False, 'psychedel': False, 'usual': False, 'pass': False, 'magnet': False, 'storm': False, 'kollo': False, 'toler': False, 'mr': False, 'wear': False, 'visor': False, 'longest': False, 'carlo': False, 'humor': False, 'digress': False, 'requir': False, 'mindmeld': False, 'pilot': False, 'enterpris': False, 'safeti': False, 'spockkollo': False, 'golli': False, 'uh': False, 'eventu': False, 'recov': False, 'help': False, 'assist': False, 'blind': False, 'psychic': False, 'across': False, 'execut': False, 'seri': False, 'season': False, 'overal': False, 'lightheart': False, 'froth': False, 'feelgood': False, 'factor': False, 'leav': False, 'redeem': False, 'perfect': False, 'romant': False, 'atmospher': False, 'undoubt': False, 'abil': False, 'shone': False, 'ventur': False, 'tv': False, 'lift': False, 'version': False, 'blockbust': False, 'rental': False, 'swear': False, 'word': False, 'hell': False, 'bone': False, 'spent': False, 'area': False, 'busi': False, 'rare': False, 'state': False, 'deer': False, 'hunter': False, 'comedybr': False, 'loren': False, 'dean': False, 'alway': False, 'jami': False, 'kennedi': False, 'hold': False, 'espec': False, 'poodl': False, 'downsid': False, 'carmen': False, 'electra': False, 'everyth': False, 'mean': False, 'obscur': False, 'budget': False, 'rediscov': False, 'pick': False, 'forest': False, 'ultra': False, 'altern': False, 'hacker': False, 'backwood': False, 'slasher': False, 'fool': False, 'wander': False, 'chase': False, 'eaten': False, 'psychopath': False, 'nonprofession': False, 'public': False, 'locat': False, 'nonactor': False, 'talent': False, 'behind': False, 'studio': False, 'problem': True, 'evoc': False, 'walk': False, 'distanc': False, 'wood': False, 'we': False, 'tini': False, 'vulner': False, 'creatur': False, 'enter': False, 'dank': False, 'gloomi': False, 'food': False, 'chain': False, 'fear': False, 'predat': False, 'dive': False, 'briefli': False, 'backpack': False, 'separ': False, 'butcher': False, 'protagonist': False, 'car': False, 'jam': False, 'mate': False, 'sound': False, 'snore': False, 'came': False, 'fiddl': False, 'cell': False, 'phone': False, 'text': False, 'sucksbr': False, 'talki': False, 'which': False, 'wouldnt': False, 'writer': False, 'asinin': False, 'line': False, 'droopyfac': False, 'ranger': False, 'warn': False, 'cannib': False, 'speak': True, 'civil': False, 'overgrown': False, 'vacant': False, 'soccer': False, 'field': False, 'bigger': False, 'rock': False, 'stream': False, 'primev': False, 'sat': False, 'trail': False, 'ambl': False, 'bybr': False, 'generat': False, 'hermit': False, 'uninterest': False, 'fresh': False, 'cook': False, 'meat': False, 'leg': False, 'victim': False, 'serv': False, 'grisli': False, 'bite': False, 'boyfriend': False, 'shelter': False, 'cave': False, 'ironi': False, 'epitom': False, 'underwhelm': False, 'deliber': False, 'omin': False, 'synthes': False, 'suspici': False, 'strap': False, 'follow': False, 'movement': False, 'lack': False, 'appreci': False, 'lurid': False, 'thrill': False, 'unwholesom': False, 'frighten': False, 'educ': False, 'workbr': False, 'dish': False, 'project': False, 'push': False, 'creativ': False, 'maggot': False, 'knife': False, 'concept': False, 'unimagin': False, 'utter': False, 'pedestrian': False, 'conclus': False, 'peter': False, 'henc': False, 'confus': False, 'prism': False, 'odditi': False, 'rack': False, 'fare': False, 'insid': False, 'month': False, 'shelv': False, 'urgenc': False, 'unless': False, 'nobodi': False, 'charg': False, 'guid': False, 'step': False, 'makingbr': False, 'sequenc': False, 'pathet': False, 'inept': False, 'enigma': False, 'otherwis': False, 'cut': True, 'madman': False, 'contractor': False, 'dispatch': False, 'belov': False, 'arm': False, 'kitchen': False, 'interlop': False, 'corner': False, 'attack': False, 'quarri': False, 'sidestep': False, 'run': False, 'psycho': False, 'footstep': False, 'badder': False, 'weapon': False, 'again': False, 'fifth': False, 'dude': False, 'blade': False, 'contrapt': False, 'how': False, 'tension': False, 'purpos': False, 'unclear': False, 'hamfist': False, 'wasbr': False, 'ampl': False, 'necessarili': False, 'daisi': False, 'bryan': False, 'fuller': False, 'creator': False, 'wonderfal': False, 'mix': False, 'marvel': False, 'brian': False, 'fantasi': False, 'disguis': False, 'exagger': False, 'fairytal': False, 'unrealist': False, 'unexpect': False, 'toldbr': False, 'curs': False, 'sweet': False, 'bitter': False, 'ned': False, 'lee': False, 'pace': False, 'piemak': False, 'chef': False, 'touch': False, 'forev': False, 'compens': False, 'speci': False, 'instant': False, 'grown': False, 'introspect': False, 'day': False, 'till': False, 'biggest': False, 'chuck': False, 'friel': False, 'gave': False, 'untouch': False, 'truli': False, 'kiss': False, 'modern': False, 'startsbr': False, 'heard': False, 'tribut': False, 'tim': False, 'burton': False, 'peewe': False, 'adventur': False, 'fish': False, 'charli': False, 'cholat': False, 'factori': False, 'pie': False, 'magnific': False, 'detect': False, 'cod': False, 'chi': False, 'mcbride': False, 'solv': False, 'unsolv': False, 'crime': False, 'common': False, 'thru': False, 'oliv': False, 'kristin': False, 'chenoweth': False, 'dreami': False, 'merg': False, 'bunch': False, 'charismat': False, 'gentl': False, 'deep': False, 'humorsbr': False, 'trivial': False, 'bright': False, 'triumphant': False, 'tender': False, 'soft': False, 'muse': False, 'emmerson': False, 'swoozi': False, 'kurtz': False, 'lilli': False, 'charl': False, 'ellen': False, 'green': False, 'snook': False, 'shine': False, 'bodi': False, 'languag': False, 'improvis': False, 'singl': False, 'asid': False, 'emmi': False, 'total': False, 'amazingbr': False, 'meant': False, 'wast': True, 'claim': False, 'comeback': False, 'childhoodbr': False, 'dare': False, 'forward': False, 'artist': False, 'sudden': False, 'disrespect': False, 'air': False, 'about': False, 'produc': False, 'grand': False, 'nation': False, 'jame': False, 'cagney': False, 'contract': False, 'disput': False, 'warner': False, 'neither': False, 'rank': False, 'creditsbr': False, 'jimmi': False, 'util': False, 'yanke': False, 'doodl': False, 'dandi': False, 'footlight': False, 'parad': False, 'lesser': False, 'west': False, 'retir': False, 'thembr': False, 'hoofer': False, 'front': False, 'discov': False, 'complic': False, 'conniv': False, 'press': False, 'gene': False, 'lockhart': False, 'william': False, 'frawley': False, 'marriag': False, 'claus': False, 'singer': False, 'evelyn': False, 'daw': False, 'driven': False, 'romanc': False, 'mona': False, 'barri': False, 'goingbr': False, 'disappoint': False, 'begin': False, 'charisma': False, 'ham': False, 'sandwich': False, 'got': False, 'pay': False, 'ticket': False, 'rubi': False, 'keeler': False, 'virginia': False, 'mayo': False, 'dori': False, 'werent': False, 'ginger': False, 'roger': False, 'eleanor': False, 'powel': False, 'availablebr': False, 'waist': False, 'jeanett': False, 'macdonald': False, 'soprano': False, 'bandbr': False, 'decent': False, 'antonioni': False, 'dismiss': False, 'flaw': False, 'culturepolit': False, 'lavventura': False, 'anywher': False, 'observ': False, 'consumerist': False, 'student': False, 'countercultur': False, 'antiestablish': False, 'antiwar': False, 'backlash': False, 'promin': False, 'pure': False, 'technic': False, 'credit': False, 'desert': False, 'lovein': False, 'billboard': False, 'jawdrop': False, 'cathart': False, 'setup': False, 'climax': False, 'chose': False, 'daria': False, 'halperin': False, 'grace': False, 'docudrama': False, 'non': False, 'context': False, 'due': False, 'select': False, 'pink': False, 'floyd': False, 'contrari': False, 'enthusiast': False, 'demand': False, 'restorationreleas': False, 'anim': False, 'workabl': False, 'hors': False, 'fabl': False, 'dreamwork': False, 'watchabl': False, 'side': False, 'revers': False, 'typic': False, 'cowboy': False, 'indian': False, 'nod': False, 'polit': False, 'correct': False, 'proper': False, 'decis': False, 'ordinari': False, 'funer': False, 'skip': False, 'whomev': False, 'afflict': False, 'extent': False, 'trap': False, 'morbid': False, 'unabl': False, 'contempl': False, 'destruct': False, 'aint': False, 'southpark': False, 'sit': False, 'grandma': False, 'after': False, 'expedit': False, 'repres': False, 'alli': False, 'sent': False, 'cambodia': False, 'count': False, 'mazovia': False, 'zombi': False, 'soldier': False, 'labor': False, 'outbreak': False, 'jungl': False, 'angkor': False, 'wat': False, 'spite': False, 'peril': False, 'armand': False, 'agenda': False, 'accord': False, 'sleev': False, 'synopsi': False, 'head': False, 'depart': False, 'revolt': False, 'roll': False, 'predecessor': False, 'white': False, 'bela': False, 'lugosi': False, 'youngerthanusu': False, 'jagger': False, 'louqu': False, 'blond': False, 'dorothi': False, 'duval': False, 'devilish': False, 'roy': False, 'darci': False, 'subservi': False, 'teru': False, 'shimada': False, 'buna': False, 'dumpsbr': False, 'victor': False, 'gaythem': False, 'honest': False, 'seenbr': False, 'firsttim': False, 'audio': False, 'photographi': False, 'script': False, 'unwatch': False, 'foolish': False, 'palm': False, 'lame': False, 'imdb': False, 'richard': False, 'natal': False, 'alleg': False, 'buddi': False, 'cute': False, 'otherbr': False, 'gorilla': False, 'lifelik': False, 'mayhem': False, 'occur': False, 'childrenbr': False, 'opportun': False, 'address': False, 'difficultiesbr': False, 'henson': False, 'jacki': False, 'chan': False, 'polic': False, 'landmark': False, 'honk': False, 'career': False, 'chanbr': False, 'directedwritten': False, 'era': False, 'rave': False, 'convict': False, 'lordbr': False, 'respons': False, 'miracl': False, 'standout': False, 'scenesbr': False, 'sammo': False, 'hung': False, 'dragon': False, 'bridget': False, 'lin': False, 'unwil': False, 'wit': False, 'maggi': False, 'cheung': False, 'suffer': False, 'bill': False, 'tung': False, 'sympathet': False, 'chief': False, 'none': False, 'qualiti': False, 'contemporari': False, 'choreographi': False, 'suit': False, 'urbanis': False, 'shootout': False, 'slum': False, 'koo': False, 'ganglord': False, 'drug': False, 'deal': False, 'whilst': False, 'woo': False, 'starter': False, 'hill': False, 'wreck': False, 'sight': False, 'breathtak': False, 'shameless': False, 'copi': False, 'transport': False, 'awesom': False, 'combat': False, 'norm': False, 'martial': False, 'maximis': False, 'tradit': False, 'dictat': False, 'stunt': False, 'cameraedit': False, 'densiti': False, 'glass': False, 'phenomen': False, 'leap': False, 'storey': False, 'balconi': False, 'grab': False, 'pole': False, 'slide': False, 'roof': False, 'forment': False, 'incorpor': False, 'sheer': False, 'othersbr': False, 'unspectacular': False, 'pad': False, 'arguabl': False, 'spectacular': False, 'essenti': False, 'afteral': False, 'pendragon': False, 'h': False, 'faith': False, 'novel': False, 'theatric': False, 'intend': False, 'march': False, 'rush': False, 'coincid': False, 'spielberg': False, 'theatr': False, 'june': False, 'reservationsbr': False, 'ogilvi': False, 'astronom': False, 'farmer': False, 'unnam': False, 'writernarr': False, 'awkward': False, 'tea': False, 'cousin': False, 'georg': False, 'palbr': False, 'fault': False, 'cheap': False, 'major': False, 'bluescreen': False, 'composit': False, 'digit': False, 'render': False, 'interior': False, 'crowd': False, 'overview': False, 'london': False, 'numer': False, 'horsecarriag': False, 'fake': False, 'guess': False, 'afford': False, 'forestsbr': False, 'restrict': False, 'manag': False, 'martian': False, 'tripod': False, 'heat': False, 'ray': False, 'thunder': False, 'child': False, 'highlight': False, 'animationbr': False, 'oscar': False, 'par': False, 'composersbr': False, 'limit': False, 'as': True, 'bbctv': False, 'literaturebr': False, 'nitpick': False, 'filter': False, 'red': False, 'inconsist': False, 'sloppi': False, 'moustach': False, 'mutat': False, 'scenebr': False, 'bottom': False, 'budgetari': False, 'youv': False, 'easili': False, 'youd': False, 'mstk': False, 'sittingbr': False, 'btw': False, 'aka': False, 'invas': False, 'httpimdbcomtitlett': False, 'updat': False, 'jeff': False, 'wayn': False, 'bestsel': False, 'album': False, 'mtv': False, 'rubbish': False, 'scream': False, 'ignor': False, 'grammar': False, 'zero': False, 'implor': False, 'iq': False, 'sleepwalk': False, 'king': False, 'santo': False, 'odd': False, 'intrigu': False, 'town': False, 'spooki': False, 'ruinedfor': False, 'kabob': False, 'jab': False, 'pencil': False, 'ear': False, 'redeemi': False, 'maby': False, 'tape': False, 'stuck': False, 'masochist': False, 'afghanistan': False, 'idiot': False, 'forgot': False, 'sanskrit': False, 'calil': False, 'zealous': False, 'shake': False, 'larson': False, 'implod': False, 'disgrac': False, 'irrever': False, 'terrorist': False, 'plane': False, 'appal': False, 'hawaii': False, 'qa': False, 'afterwardsbr': False, 'kudo': False, 'harvey': False, 'keitel': False, 'risk': False, 'limb': False, 'likedbr': False, 'paradiso': False, 'revolut': False, 'cuba': False, 'ambigu': False, 'bicycl': False, 'thief': False, 'homag': False, 'pretentiousbr': False, 'auteuil': False, 'childsav': False, 'worldbr': False, 'doubli': False, 'depress': False, 'groundbreak': False, 'befor': False, 'meng': False, 'cohort': False, 'comment': False, 'viewer': False, 'shoddi': False, 'ridicul': False, 'handl': False, 'topic': False, 'those': False, 'disgust': False, 'pedophiliabr': False, 'do': False, 'kidnap': False, 'sold': False, 'slaveri': False, 'molest': False, 'teacher': False, 'hmmi': False, 'owe': False, 'realist': False, 'instead': False, 'buttonpush': False, 'jack': False, 'wartim': False, 'propaganda': False, 'wrote': False, 'baggag': False, 'condemn': False, 'racism': False, 'ii': False, 'yellow': False, 'daybr': False, 'cover': False, 'seaman': False, 'sea': False, 'wolf': False, 'yukon': False, 'miner': False, 'doubt': False, 'spirit': False, 'paper': False, 'sincebr': False, 'dealt': False, 'correspond': False, 'russojapanes': False, 'socialist': False, 'social': False, 'orient': False, 'million': False, 'rise': False, 'immigr': False, 'pacif': False, 'coast': True, 'threat': False, 'advoc': False, 'strict': False, 'polici': False, 'orientalsbr': False, 'cart': False, 'japan': False, 'ambit': False, 'xenophob': False, 'atroc': False, 'imperi': False, 'usa': False, 'caus': True, 'pressur': False, 'politician': False, 'prophet': False, 'wildernessbr': False, 'independ': False, 'samuel': False, 'bronston': False, 'had': False, 'gotten': False, 'spencer': False, 'traci': False, 'oshea': False, 'burlesqu': False, 'officebr': False, 'captain': False, 'tanaka': False, 'ton': False, 'vantag': False, 'outlin': False, 'manchu': False, 'gone': False, 'shift': False, 'susan': False, 'hayward': False, 'wed': False, 'charmian': False, 'kittredg': False, 'surviv': False, 'met': False, 'wack': False, 'besid': False, 'moral': False, 'neighborhood': False, 'particip': False, 'f': False, 'abysm': False, 'frontsreal': False, 'cue': False, 'card': False, 'on': False, 'upshot': False, 'thoughth': False, 'god': False, 'agobr': False, 'blood': False, 'circulatori': False, 'system': False, 'veri': False, 'togetherdisneystyl': False, 'actorsit': False, 'capra': False, 'pete': False, 'sakebr': False, 'overkil': False, 'filmstrip': False, 'inform': False, 'dr': False, 'baxter': False, 'hemo': False, 'resembl': False, 'answer': False, 'water': False, 'likabl': False, 'capabl': False, 'design': False, 'professionallook': False, 'cheesi': False, 'havent': False, 'armageddon': False, 'andor': False, 'outland': False, 'formula': False, 'cookiecutt': False, 'grimi': False, 'corpor': False, 'drone': False, 'space': False, 'versus': False, 'unstopp': False, 'han': False, 'zimmer': False, 'custom': False, 'metasonix': False, 'modular': False, 'synth': False, 'dear': False, 'jacket': False, 'versionbr': False, 'cheezi': False, 'meg': False, 'foster': False, 'blue': False, 'plenti': False, 'ofbr': False, 'david': False, 'maccullum': False, 'swim': False, 'pool': False, 'plexiglass': False, 'window': False, 'greec': False, 'margin': False, 'impressivethat': False, 'rich': False, 'la': False, 'mendanasso': False, 'sp': False, 'castl': False, 'clean': False, 'dust': False, 'wind': False, 'fierc': False, 'pelt': False, 'furnitur': False, 'nastyetc': False, 'stumbl': False, 'fire': False, 'match': False, 'dumb': False, 'stuff': False, 'clunki': False, 'more': False, 'kooki': False, 'geezer': False, 'vacat': False, 'sunday': False, 'sappi': False, 'mami': False, 'gummer': False, 'lila': False, 'bobbi': False, 'trust': False, 'porn': False, 'prefer': False, 'descent': False, 'bedroom': False, 'door': False, 'attributesbr': False, 'scam': False, 'seduct': False, 'chelsea': False, 'brook': False, 'lavell': False, 'blackmail': False, 'seductress': False, 'extrem': False, 'her': False, 'moniqu': False, 'alexand': False, 'definit': False, 'cuti': False, 'gigi': False, 'share': False, 'das': False, 'nicol': False, 'sheridanim': False, 'excit': False, 'okay': False, 'sorri': False, 'drop': False, 'overrid': False, 'negat': False, 'should': False, 'balderdash': False, 'island': False, 'submarin': False, 'muddi': False, 'footag': False, 'jap': False, 'infantri': False, 'fighter': False, 'onedimension': False, 'squarejaw': False, 'sixti': False, 'artifact': False, 'fever': False, 'upon': False, 'gun': False, 'summer': False, 'peer': False, 'hedg': False, 'gain': False, 'fatal': False, 'advantag': False, 'makin': False, 'raid': False, 'failur': False, 'carlson': False, 'men': False, 'exchang': False, 'gunfir': False, 'thirsti': False, 'disori': False, 'surrend': False, 'prompt': False, 'withdraw': False, 'marin': False, 'abandon': False, 'whimsi': False, 'fabric': False, 'drum': False, 'randolph': False, 'scott': False, 'jaw': False, 'colonel': False, 'thorwald': False, 'unit': False, 'compris': False, 'caricatur': False, 'recruit': False, 'harri': False, 'landon': False, 'mitchum': False, 'grizzl': False, 'veteran': False, 'j': False, 'carrol': False, 'naish': False, 'milburn': False, 'sam': False, 'leven': False, 'countrybumpkin': False, 'rod': False, 'cameron': False, 'allamerican': False, 'curti': False, 'sneer': False, 'overcom': False, 'narrow': False, 'rang': False, 'earnest': False, 'thin': False, 'gruel': False, 'onenot': False, 'object': False, 'exercis': False, 'ani': False, 'pretens': False, 'randi': False, 'stir': False, 'sorta': False, 'reefer': False, 'mad': False, 'bottl': False, 'moder': False, 'merlot': False, 'ress': False, 'witherspoon': False, 'school': False, 'stylis': False, 'chairman': False, 'candid': False, 'ego': False, 'bribe': False, 'record': False, 'race': False, 'tens': False, 'expert': False, 'introduc': False, 'twist': False, 'glori': False, 'edg': False, 'seat': False, 'winc': False, 'volum': False, 'safe': False, 'instal': False, 'deeper': False, 'murki': False, 'feud': False, 'underhand': False, 'sequel': False, 'overst': False, 'content': False, 'panic': False, 'spread': False, 'plagu': False, 'encount': False, 'have': False, 'suspens': False, 'elia': False, 'kazan': False, 'plagueinfect': False, 'killer': False, 'sought': False, 'sidebar': False, 'relationship': False, 'reed': False, 'widmark': False, 'warren': False, 'theyv': False, 'forg': False, 'taken': False, 'palanc': False, 'heavi': False, 'barbara': False, 'bel': False, 'gedd': False, 'flat': False, 'central': False, 'wrapup': False, 'televis': False, 'are': False, 'reflect': False, 'societi': False, 'shape': False, 'question': False, 'week': False, 'thesi': False, 'camerawork': False, 'ran': False, 'somehow': False, 'allud': False, 'avid': False, 'creepi': False, 'hotel': False, 'english': False, 'weird': False, 'spell': False, 'imdbbr': False, 'elsi': False, 'julia': False, 'elizabeth': False, 'steel': False, 'resist': False, 'remast': False, 'ultraedit': False, 'splice': False, 'where': False, 'unus': False, 'twenti': False, 'allen': False, 'arent': True, 'herbert': False, 'exot': False, 'damn': False, 'romero': False, 'growl': False, 'whistl': False, 'decay': False, 'corps': False, 'freak': False, 'mess': False, 'chop': False, 'coolest': False, 'cat': False, 'review': False, 'fangoria': False, 'rue': False, 'morgu': False, 'captiv': False, 'drawn': False, 'heartfelt': False, 'rewrit': False, 'grimm': False, 'theyll': False, 'bibbitybobbityboo': False, 'formul': False, 'generic': False, 'santa': False, 'bland': False, 'unpredict': False, 'holiday': False, 'notabl': False, 'conquer': False, 'campi': False, 'screw': False, 'christma': False, 'joy': False, 'pitch': False, 'merlin': False, 'magician': False, 'random': False, 'admit': False, 'wacki': False, 'allout': False, 'cluster': False, 'univers': False, 'tenko': False, 'british': False, 'fell': False, 'thread': False, 'wove': False, 'newbi': False, 'advis': False, 'bogdonovich': False, 'unherald': False, 'fairi': False, 'ground': False, 'realiti': False, 'authent': False, 'manhattan': False, 'nyc': False, 'ritter': False, 'bogdanovich': False, 'blake': False, 'edward': False, 'billi': False, 'spend': False, 'em': False, 'ripoff': False, 'fertil': False, 'saint': False, 'overr': False, 'stink': False, 'mall': False, 'shop': False, 'freeway': False, 'homicid': False, 'belzer': False, 'radio': False, 'psychiatrist': False, 'bmovi': False, 'villain': False, 'parexcel': False, 'drago': False, 'revelationquot': False, 'darlann': False, 'fluegel': False, 'sunni': False, 'gut': False, 'helpless': False, 'fulli': False, 'round': False, 'bounti': False, 'russobr': False, 'russo': False, 'flesh': False, 'former': False, 'menac': False, 'superbl': False, 'lone': False, 'prowl': False, 'grey': False, 'sedan': False, 'underscor': False, 'suitabl': False, 'compos': False, 'stroke': False, 'cobweb': False, 'noteworthi': False, 'shatter': False, 'drastic': False, 'institut': False, 'turmoil': False, 'ludicr': False, 'overwork': False, 'preposter': False, 'drape': False, 'librari': False, 'patient': False, 'looni': False, 'danger': False, 'logic': False, 'massiv': False, 'reallik': False, 'academi': False, 'awardnomine': False, 'exclud': False, 'doggon': False, 'thus': False, 'viewpoint': False, 'adher': False, 'interestbr': False, 'analysi': False, 'unrecogn': False, 'focus': False, 'cube': False, 'enhanc': False, 'machineri': False, 'exit': False, 'ingeni': False, 'elabor': False, 'becam': False, 'soap': False, 'opera': False, 'somebodi': False, 'normal': True, 'freddi': False, 'wtf': False, 'stick': False, 'cool': False, 'etcbr': False, 'zane': False, 'dream': False, 'demon': False, 'claw': False, 'lezli': False, 'basebal': False, 'bat': False, 'doc': False, 'explodingbr': False, 'minutesbr': False, 'tellitas': False, 'madhur': False, 'bhandarkar': False, 'moles': False, 'gy': False, 'filmi': False, 'report': False, 'mrs': False, 'iyer': False, 'interact': False, 'roomi': False, 'colleagu': False, 'model': False, 'page': False, 'newspaperbr': False, 'notic': False, 'deglamor': False, 'less': False, 'outshin': False, 'verdict': False, 'issu': False, 'limelight': False, 'conveybr': False, 'glitz': False, 'glamor': False, 'contrast': False, 'rule': False, 'brought': False, 'forth': False, 'unwritten': False, 'sleep': False, 'costar': False, 'bollywoodbr': False, 'flight': False, 'tire': False, 'resort': False, 'measur': False, 'elder': False, 'unhappi': False, 'spoilt': False, 'familiesbr': False, 'averag': False}, 'neg')\n"
     ]
    }
   ],
   "source": [
    "print(featuresets[0])"
   ]
  },
  {
   "cell_type": "code",
   "execution_count": 38,
   "metadata": {},
   "outputs": [],
   "source": [
    "listy = []\n",
    "for rev, tag in featuresets: \n",
    "    rev['category'] = tag\n",
    "    listy.append(rev)\n",
    "    "
   ]
  },
  {
   "cell_type": "code",
   "execution_count": 62,
   "metadata": {},
   "outputs": [],
   "source": [
    "df = pd.DataFrame.from_dict(listy)\n",
    "df = df.astype('category')"
   ]
  },
  {
   "cell_type": "code",
   "execution_count": 73,
   "metadata": {},
   "outputs": [],
   "source": [
    "y = df['category']\n",
    "df = df.drop(['category'],  axis=1)"
   ]
  },
  {
   "cell_type": "code",
   "execution_count": 89,
   "metadata": {},
   "outputs": [],
   "source": [
    "X = pd.get_dummies(df, drop_first=True)"
   ]
  },
  {
   "cell_type": "code",
   "execution_count": null,
   "metadata": {},
   "outputs": [],
   "source": []
  },
  {
   "cell_type": "code",
   "execution_count": 90,
   "metadata": {},
   "outputs": [],
   "source": [
    "from sklearn.model_selection import train_test_split\n",
    "\n",
    "\n",
    "X_train, X_test, y_train, y_test = train_test_split(X, y)"
   ]
  },
  {
   "cell_type": "code",
   "execution_count": 114,
   "metadata": {},
   "outputs": [],
   "source": [
    "classifier = nltk.NaiveBayesClassifier.train(training_set)"
   ]
  },
  {
   "cell_type": "code",
   "execution_count": 115,
   "metadata": {},
   "outputs": [
    {
     "name": "stdout",
     "output_type": "stream",
     "text": [
      "Classifier accuracy percent: 84.28\n"
     ]
    }
   ],
   "source": [
    "print(\"Classifier accuracy percent:\",(nltk.classify.accuracy(classifier, testing_set))*100)"
   ]
  },
  {
   "cell_type": "code",
   "execution_count": 99,
   "metadata": {},
   "outputs": [
    {
     "name": "stdout",
     "output_type": "stream",
     "text": [
      "Most Informative Features\n",
      "                semblanc = True              neg : pos    =     25.8 : 1.0\n",
      "                 unwatch = True              neg : pos    =     25.7 : 1.0\n",
      "                    mstk = True              neg : pos    =     25.4 : 1.0\n",
      "                rediscov = True              pos : neg    =     14.3 : 1.0\n",
      "                flawless = True              pos : neg    =     11.2 : 1.0\n",
      "               pointless = True              neg : pos    =     10.8 : 1.0\n",
      "                    gedd = True              pos : neg    =     10.3 : 1.0\n",
      "                 superbl = True              pos : neg    =     10.1 : 1.0\n",
      "                    wast = True              neg : pos    =      9.3 : 1.0\n",
      "                   worst = True              neg : pos    =      9.0 : 1.0\n",
      "                awardwin = True              pos : neg    =      9.0 : 1.0\n",
      "                  demill = True              pos : neg    =      8.6 : 1.0\n",
      "                 olympia = True              pos : neg    =      8.2 : 1.0\n",
      "                   powel = True              pos : neg    =      8.0 : 1.0\n",
      "                     wtf = True              neg : pos    =      7.9 : 1.0\n"
     ]
    }
   ],
   "source": [
    "classifier.show_most_informative_features(15)"
   ]
  },
  {
   "cell_type": "code",
   "execution_count": 117,
   "metadata": {},
   "outputs": [],
   "source": [
    "from nltk.classify.scikitlearn import SklearnClassifier\n",
    "from sklearn.naive_bayes import MultinomialNB,BernoulliNB\n",
    "from sklearn.linear_model import LogisticRegression,SGDClassifier\n",
    "from sklearn.svm import SVC, LinearSVC, NuSVC"
   ]
  },
  {
   "cell_type": "code",
   "execution_count": 118,
   "metadata": {},
   "outputs": [
    {
     "name": "stdout",
     "output_type": "stream",
     "text": [
      "Original Naive Bayes Algo accuracy percent: 84.28\n",
      "Most Informative Features\n",
      "                semblanc = True              neg : pos    =     25.8 : 1.0\n",
      "                 unwatch = True              neg : pos    =     25.7 : 1.0\n",
      "                    mstk = True              neg : pos    =     25.4 : 1.0\n",
      "                rediscov = True              pos : neg    =     14.3 : 1.0\n",
      "                flawless = True              pos : neg    =     11.2 : 1.0\n",
      "               pointless = True              neg : pos    =     10.8 : 1.0\n",
      "                    gedd = True              pos : neg    =     10.3 : 1.0\n",
      "                 superbl = True              pos : neg    =     10.1 : 1.0\n",
      "                    wast = True              neg : pos    =      9.3 : 1.0\n",
      "                   worst = True              neg : pos    =      9.0 : 1.0\n",
      "                awardwin = True              pos : neg    =      9.0 : 1.0\n",
      "                  demill = True              pos : neg    =      8.6 : 1.0\n",
      "                 olympia = True              pos : neg    =      8.2 : 1.0\n",
      "                   powel = True              pos : neg    =      8.0 : 1.0\n",
      "                     wtf = True              neg : pos    =      7.9 : 1.0\n",
      "MNB_classifier accuracy percent: 84.44\n",
      "BernoulliNB_classifier accuracy percent: 84.28\n",
      "LogisticRegression_classifier accuracy percent: 85.78\n"
     ]
    },
    {
     "name": "stderr",
     "output_type": "stream",
     "text": [
      "/anaconda3/lib/python3.7/site-packages/sklearn/linear_model/stochastic_gradient.py:128: FutureWarning: max_iter and tol parameters have been added in <class 'sklearn.linear_model.stochastic_gradient.SGDClassifier'> in 0.19. If both are left unset, they default to max_iter=5 and tol=None. If tol is not None, max_iter defaults to max_iter=1000. From 0.21, default max_iter will be 1000, and default tol will be 1e-3.\n",
      "  \"and default tol will be 1e-3.\" % type(self), FutureWarning)\n"
     ]
    },
    {
     "name": "stdout",
     "output_type": "stream",
     "text": [
      "SGDClassifier_classifier accuracy percent: 83.66\n",
      "SVC_classifier accuracy percent: 85.0\n",
      "LinearSVC_classifier accuracy percent: 84.68\n",
      "NuSVC_classifier accuracy percent: 86.68\n"
     ]
    }
   ],
   "source": [
    "print(\"Original Naive Bayes Algo accuracy percent:\", (nltk.classify.accuracy(classifier, testing_set))*100)\n",
    "classifier.show_most_informative_features(15)\n",
    "\n",
    "MNB_clf = SklearnClassifier(MultinomialNB())\n",
    "MNB_clf.train(training_set)\n",
    "print(\"MNB_classifier accuracy percent:\", (nltk.classify.accuracy(MNB_clf, testing_set))*100)\n",
    "\n",
    "BNB_clf = SklearnClassifier(BernoulliNB())\n",
    "BNB_clf.train(training_set)\n",
    "print(\"BernoulliNB_classifier accuracy percent:\", (nltk.classify.accuracy(BNB_clf, testing_set))*100)\n",
    "\n",
    "LogReg_clf = SklearnClassifier(LogisticRegression())\n",
    "LogReg_clf.train(training_set)\n",
    "print(\"LogisticRegression_classifier accuracy percent:\", (nltk.classify.accuracy(LogReg_clf, testing_set))*100)\n",
    "\n",
    "SGD_clf = SklearnClassifier(SGDClassifier())\n",
    "SGD_clf.train(training_set)\n",
    "print(\"SGDClassifier_classifier accuracy percent:\", (nltk.classify.accuracy(SGD_clf, testing_set))*100)\n",
    "\n",
    "SVC_clf = SklearnClassifier(SVC())\n",
    "SVC_clf.train(training_set)\n",
    "print(\"SVC_classifier accuracy percent:\", (nltk.classify.accuracy(SVC_clf, testing_set))*100)\n",
    "\n",
    "LinSVC_clf = SklearnClassifier(LinearSVC())\n",
    "LinSVC_clf.train(training_set)\n",
    "print(\"LinearSVC_classifier accuracy percent:\", (nltk.classify.accuracy(LinSVC_clf, testing_set))*100)\n",
    "\n",
    "NuSVC_clf = SklearnClassifier(NuSVC())\n",
    "NuSVC_clf.train(training_set)\n",
    "print(\"NuSVC_classifier accuracy percent:\", (nltk.classify.accuracy(NuSVC_clf, testing_set))*100)"
   ]
  },
  {
   "cell_type": "code",
   "execution_count": 140,
   "metadata": {},
   "outputs": [
    {
     "name": "stdout",
     "output_type": "stream",
     "text": [
      "Original Naive Bayes Algo accuracy percent: 80.0\n",
      "Most Informative Features\n",
      "                semblanc = True              neg : pos    =     25.8 : 1.0\n",
      "                 unwatch = True              neg : pos    =     25.7 : 1.0\n",
      "                    mstk = True              neg : pos    =     25.4 : 1.0\n",
      "                rediscov = True              pos : neg    =     14.3 : 1.0\n",
      "                flawless = True              pos : neg    =     11.2 : 1.0\n",
      "               pointless = True              neg : pos    =     10.8 : 1.0\n",
      "                    gedd = True              pos : neg    =     10.3 : 1.0\n",
      "                 superbl = True              pos : neg    =     10.1 : 1.0\n",
      "                    wast = True              neg : pos    =      9.3 : 1.0\n",
      "                   worst = True              neg : pos    =      9.0 : 1.0\n",
      "                awardwin = True              pos : neg    =      9.0 : 1.0\n",
      "                  demill = True              pos : neg    =      8.6 : 1.0\n",
      "                 olympia = True              pos : neg    =      8.2 : 1.0\n",
      "                   powel = True              pos : neg    =      8.0 : 1.0\n",
      "                     wtf = True              neg : pos    =      7.9 : 1.0\n",
      "Original Naive Bayes Algo accuracy percent: 85.0\n",
      "Most Informative Features\n",
      "                semblanc = True              neg : pos    =     25.8 : 1.0\n",
      "                 unwatch = True              neg : pos    =     25.7 : 1.0\n",
      "                    mstk = True              neg : pos    =     25.4 : 1.0\n",
      "                rediscov = True              pos : neg    =     14.3 : 1.0\n",
      "                flawless = True              pos : neg    =     11.2 : 1.0\n",
      "               pointless = True              neg : pos    =     10.8 : 1.0\n",
      "                    gedd = True              pos : neg    =     10.3 : 1.0\n",
      "                 superbl = True              pos : neg    =     10.1 : 1.0\n",
      "                    wast = True              neg : pos    =      9.3 : 1.0\n",
      "                   worst = True              neg : pos    =      9.0 : 1.0\n",
      "                awardwin = True              pos : neg    =      9.0 : 1.0\n",
      "                  demill = True              pos : neg    =      8.6 : 1.0\n",
      "                 olympia = True              pos : neg    =      8.2 : 1.0\n",
      "                   powel = True              pos : neg    =      8.0 : 1.0\n",
      "                     wtf = True              neg : pos    =      7.9 : 1.0\n"
     ]
    }
   ],
   "source": [
    "print(\"Original Naive Bayes Algo accuracy percent:\", (nltk.classify.accuracy(classifier, test_pos))*100)\n",
    "classifier.show_most_informative_features(15)\n",
    "\n",
    "print(\"Original Naive Bayes Algo accuracy percent:\", (nltk.classify.accuracy(classifier, test_neg))*100)\n",
    "classifier.show_most_informative_features(15)"
   ]
  },
  {
   "cell_type": "code",
   "execution_count": 120,
   "metadata": {},
   "outputs": [],
   "source": [
    "classifiers_dict = {'MNB': [MNB_clf, 'MNB_classifier.pickle'],\n",
    "                    'BNB': [BNB_clf, 'BNB_clf.pickle'],\n",
    "                    'LogReg': [LogReg_clf, 'LogReg_clf.pickle'],\n",
    "                    'SGD': [SGD_clf, 'SGD_clf.pickle'], \n",
    "                    'SVC': [SVC_clf, 'SVC_clf.pickle'], \n",
    "                    'LinSVC': [LinSVC_clf, 'LinSVC_clf.pickle'], \n",
    "                    'NuSVC': [NuSVC_clf, 'NuSVC_clf.pickle']}"
   ]
  },
  {
   "cell_type": "code",
   "execution_count": 125,
   "metadata": {},
   "outputs": [],
   "source": [
    "def create_pickle(classifer, file_name): \n",
    "    save_classifier = open(file_name, 'wb')\n",
    "    pickle.dump(classifier, save_classifier)\n",
    "    save_classifier.close()\n",
    "def get_clf(classifer, file_name): \n",
    "    classifier_f = open(file_name, \"rb\")\n",
    "    classifier = pickle.load(classifier_f)\n",
    "    classifier_f.close()\n",
    "    return classifier"
   ]
  },
  {
   "cell_type": "code",
   "execution_count": 123,
   "metadata": {},
   "outputs": [],
   "source": [
    "for clf, listy in classifiers_dict.items(): \n",
    "    create_pickle(listy[0], listy[1])"
   ]
  },
  {
   "cell_type": "code",
   "execution_count": 126,
   "metadata": {},
   "outputs": [],
   "source": [
    "MNB_clf_picked = get_clf(classifiers_dict['MNB'][0], classifiers_dict['MNB'][1])"
   ]
  },
  {
   "cell_type": "code",
   "execution_count": 127,
   "metadata": {},
   "outputs": [
    {
     "name": "stdout",
     "output_type": "stream",
     "text": [
      "MNB_classifier accuracy percent: 84.28\n"
     ]
    }
   ],
   "source": [
    "print(\"MNB_classifier accuracy percent:\", (nltk.classify.accuracy(MNB_clf_picked, testing_set))*100)"
   ]
  },
  {
   "cell_type": "code",
   "execution_count": 30,
   "metadata": {},
   "outputs": [],
   "source": [
    "\n",
    "from nltk.corpus import movie_reviews\n",
    "\n",
    "documents = [(list(movie_reviews.words(fileid)), category)\n",
    "             for category in movie_reviews.categories()\n",
    "             for fileid in movie_reviews.fileids(category)]"
   ]
  },
  {
   "cell_type": "code",
   "execution_count": null,
   "metadata": {},
   "outputs": [],
   "source": []
  },
  {
   "cell_type": "code",
   "execution_count": 34,
   "metadata": {},
   "outputs": [],
   "source": [
    "\n",
    "random.shuffle(documents)\n",
    "\n",
    "all_words = []\n",
    "\n",
    "for w in movie_reviews.words():\n",
    "    all_words.append(w.lower())\n",
    "\n",
    "all_words2 = nltk.FreqDist(all_words)\n",
    "\n",
    "word_features = list(all_words2.keys())[:3000]\n"
   ]
  },
  {
   "cell_type": "code",
   "execution_count": 83,
   "metadata": {},
   "outputs": [
    {
     "data": {
      "text/plain": [
       "FreqDist({',': 77717, 'the': 76529, '.': 65876, 'a': 38106, 'and': 35576, 'of': 34123, 'to': 31937, \"'\": 30585, 'is': 25195, 'in': 21822, ...})"
      ]
     },
     "execution_count": 83,
     "metadata": {},
     "output_type": "execute_result"
    }
   ],
   "source": [
    "all_words2"
   ]
  },
  {
   "cell_type": "code",
   "execution_count": 65,
   "metadata": {},
   "outputs": [],
   "source": [
    "from nltk.corpus import stopwords\n",
    "stopwords.words(\"english\")\n",
    "stop_words = set(stopwords.words('english'))"
   ]
  },
  {
   "cell_type": "code",
   "execution_count": null,
   "metadata": {},
   "outputs": [],
   "source": [
    "# Write a list of ways that you can do feature selection when creating a model.\n",
    "# remove on of highly correlated variables \n",
    "# remove variables that are not necessarily explaining a lot about the model \n",
    "# variables that are \n",
    "# Write a list of reasons why feature selection is a necessary in the machine learning project process\n"
   ]
  },
  {
   "cell_type": "code",
   "execution_count": 102,
   "metadata": {},
   "outputs": [],
   "source": [
    "import pickle \n",
    "\n",
    "save_classifier = open('NB_clf_nltk.pickle', 'wb')\n",
    "pickle.dump(classifier, save_classifier)\n",
    "save_classifier.close()"
   ]
  },
  {
   "cell_type": "code",
   "execution_count": 104,
   "metadata": {},
   "outputs": [],
   "source": [
    "classifier_f = open(\"NB_clf_nltk.pickle\", \"rb\")\n",
    "classifier = pickle.load(classifier_f)\n",
    "classifier_f.close()"
   ]
  },
  {
   "cell_type": "code",
   "execution_count": 106,
   "metadata": {},
   "outputs": [
    {
     "name": "stdout",
     "output_type": "stream",
     "text": [
      "Classifier accuracy percent: 84.28\n"
     ]
    }
   ],
   "source": [
    "print(\"Classifier accuracy percent:\",(nltk.classify.accuracy(classifier, testing_set))*100)"
   ]
  },
  {
   "cell_type": "code",
   "execution_count": 128,
   "metadata": {},
   "outputs": [],
   "source": [
    "from nltk.classify import ClassifierI\n",
    "from statistics import mode"
   ]
  },
  {
   "cell_type": "code",
   "execution_count": 134,
   "metadata": {},
   "outputs": [],
   "source": [
    "class VoteClassifier(ClassifierI):\n",
    "    def __init__(self, *classifiers):\n",
    "        self._classifiers = classifiers\n",
    "    def classify(self, features):\n",
    "        votes = []\n",
    "        for c in self._classifiers:\n",
    "            v = c.classify(features)\n",
    "            votes.append(v)\n",
    "        return mode(votes)\n",
    "    def confidence(self, features):\n",
    "        votes = []\n",
    "        for c in self._classifiers:\n",
    "            v = c.classify(features)\n",
    "            votes.append(v)\n",
    "\n",
    "        choice_votes = votes.count(mode(votes))\n",
    "        conf = choice_votes / len(votes)\n",
    "        return conf"
   ]
  },
  {
   "cell_type": "code",
   "execution_count": null,
   "metadata": {},
   "outputs": [],
   "source": [
    "{'MNB': [MNB_clf, 'MNB_classifier.pickle'],\n",
    "                    'BNB': [BNB_clf, 'BNB_clf.pickle'],\n",
    "                    'LogReg': [LogReg_clf, 'LogReg_clf.pickle'],\n",
    "                    'SGD': [SGD_clf, 'SGD_clf.pickle'], \n",
    "                    'SVC': [SVC_clf, 'SVC_clf.pickle'], \n",
    "                    'LinSVC': [LinSVC_clf, 'LinSVC_clf.pickle'], \n",
    "                    'NuSVC': [NuSVC_clf, 'NuSVC_clf.pickle']}"
   ]
  },
  {
   "cell_type": "code",
   "execution_count": 133,
   "metadata": {},
   "outputs": [
    {
     "name": "stdout",
     "output_type": "stream",
     "text": [
      "voted_classifier accuracy percent: 86.44\n",
      "Classification: neg Confidence %: 100.0\n",
      "Classification: neg Confidence %: 100.0\n",
      "Classification: pos Confidence %: 100.0\n",
      "Classification: neg Confidence %: 100.0\n",
      "Classification: pos Confidence %: 100.0\n",
      "Classification: neg Confidence %: 100.0\n"
     ]
    }
   ],
   "source": [
    "voted_classifier = VoteClassifier(classifier,\n",
    "                                  NuSVC_clf,\n",
    "                                  LinSVC_clf,\n",
    "                                  SGD_clf,\n",
    "                                  MNB_clf,\n",
    "                                  BNB_clf,\n",
    "                                  LogReg_clf)\n",
    "\n",
    "print(\"voted_classifier accuracy percent:\", (nltk.classify.accuracy(voted_classifier, testing_set))*100)\n",
    "\n",
    "print(\"Classification:\", voted_classifier.classify(testing_set[0][0]), \"Confidence %:\",voted_classifier.confidence(testing_set[0][0])*100)\n",
    "print(\"Classification:\", voted_classifier.classify(testing_set[1][0]), \"Confidence %:\",voted_classifier.confidence(testing_set[1][0])*100)\n",
    "print(\"Classification:\", voted_classifier.classify(testing_set[2][0]), \"Confidence %:\",voted_classifier.confidence(testing_set[2][0])*100)\n",
    "print(\"Classification:\", voted_classifier.classify(testing_set[3][0]), \"Confidence %:\",voted_classifier.confidence(testing_set[3][0])*100)\n",
    "print(\"Classification:\", voted_classifier.classify(testing_set[4][0]), \"Confidence %:\",voted_classifier.confidence(testing_set[4][0])*100)\n",
    "print(\"Classification:\", voted_classifier.classify(testing_set[5][0]), \"Confidence %:\",voted_classifier.confidence(testing_set[5][0])*100)"
   ]
  },
  {
   "cell_type": "code",
   "execution_count": 136,
   "metadata": {},
   "outputs": [
    {
     "data": {
      "text/plain": [
       "'neg'"
      ]
     },
     "execution_count": 136,
     "metadata": {},
     "output_type": "execute_result"
    }
   ],
   "source": [
    "testing_set[0][1]"
   ]
  },
  {
   "cell_type": "code",
   "execution_count": null,
   "metadata": {},
   "outputs": [],
   "source": []
  }
 ],
 "metadata": {
  "kernelspec": {
   "display_name": "Python 3",
   "language": "python",
   "name": "python3"
  },
  "language_info": {
   "codemirror_mode": {
    "name": "ipython",
    "version": 3
   },
   "file_extension": ".py",
   "mimetype": "text/x-python",
   "name": "python",
   "nbconvert_exporter": "python",
   "pygments_lexer": "ipython3",
   "version": "3.7.0"
  }
 },
 "nbformat": 4,
 "nbformat_minor": 2
}
